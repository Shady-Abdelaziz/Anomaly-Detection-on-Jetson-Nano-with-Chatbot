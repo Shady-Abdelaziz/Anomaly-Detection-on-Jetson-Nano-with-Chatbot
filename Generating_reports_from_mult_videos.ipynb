{
  "cells": [
    {
      "cell_type": "code",
      "execution_count": null,
      "metadata": {
        "colab": {
          "base_uri": "https://localhost:8080/"
        },
        "collapsed": true,
        "id": "gGKLXOym3XnW",
        "outputId": "02c8f270-3fe6-4826-bb27-b7b557107999"
      },
      "outputs": [
        {
          "output_type": "stream",
          "name": "stdout",
          "text": [
            "Requirement already satisfied: langchain in /usr/local/lib/python3.10/dist-packages (0.3.7)\n",
            "Requirement already satisfied: PyYAML>=5.3 in /usr/local/lib/python3.10/dist-packages (from langchain) (6.0.2)\n",
            "Requirement already satisfied: SQLAlchemy<3,>=1.4 in /usr/local/lib/python3.10/dist-packages (from langchain) (2.0.36)\n",
            "Requirement already satisfied: aiohttp<4.0.0,>=3.8.3 in /usr/local/lib/python3.10/dist-packages (from langchain) (3.11.1)\n",
            "Requirement already satisfied: async-timeout<5.0.0,>=4.0.0 in /usr/local/lib/python3.10/dist-packages (from langchain) (4.0.3)\n",
            "Requirement already satisfied: langchain-core<0.4.0,>=0.3.15 in /usr/local/lib/python3.10/dist-packages (from langchain) (0.3.18)\n",
            "Requirement already satisfied: langchain-text-splitters<0.4.0,>=0.3.0 in /usr/local/lib/python3.10/dist-packages (from langchain) (0.3.2)\n",
            "Requirement already satisfied: langsmith<0.2.0,>=0.1.17 in /usr/local/lib/python3.10/dist-packages (from langchain) (0.1.143)\n",
            "Requirement already satisfied: numpy<2,>=1 in /usr/local/lib/python3.10/dist-packages (from langchain) (1.26.4)\n",
            "Requirement already satisfied: pydantic<3.0.0,>=2.7.4 in /usr/local/lib/python3.10/dist-packages (from langchain) (2.9.2)\n",
            "Requirement already satisfied: requests<3,>=2 in /usr/local/lib/python3.10/dist-packages (from langchain) (2.32.3)\n",
            "Requirement already satisfied: tenacity!=8.4.0,<10,>=8.1.0 in /usr/local/lib/python3.10/dist-packages (from langchain) (9.0.0)\n",
            "Requirement already satisfied: aiohappyeyeballs>=2.3.0 in /usr/local/lib/python3.10/dist-packages (from aiohttp<4.0.0,>=3.8.3->langchain) (2.4.3)\n",
            "Requirement already satisfied: aiosignal>=1.1.2 in /usr/local/lib/python3.10/dist-packages (from aiohttp<4.0.0,>=3.8.3->langchain) (1.3.1)\n",
            "Requirement already satisfied: attrs>=17.3.0 in /usr/local/lib/python3.10/dist-packages (from aiohttp<4.0.0,>=3.8.3->langchain) (24.2.0)\n",
            "Requirement already satisfied: frozenlist>=1.1.1 in /usr/local/lib/python3.10/dist-packages (from aiohttp<4.0.0,>=3.8.3->langchain) (1.5.0)\n",
            "Requirement already satisfied: multidict<7.0,>=4.5 in /usr/local/lib/python3.10/dist-packages (from aiohttp<4.0.0,>=3.8.3->langchain) (6.1.0)\n",
            "Requirement already satisfied: propcache>=0.2.0 in /usr/local/lib/python3.10/dist-packages (from aiohttp<4.0.0,>=3.8.3->langchain) (0.2.0)\n",
            "Requirement already satisfied: yarl<2.0,>=1.17.0 in /usr/local/lib/python3.10/dist-packages (from aiohttp<4.0.0,>=3.8.3->langchain) (1.17.1)\n",
            "Requirement already satisfied: jsonpatch<2.0,>=1.33 in /usr/local/lib/python3.10/dist-packages (from langchain-core<0.4.0,>=0.3.15->langchain) (1.33)\n",
            "Requirement already satisfied: packaging<25,>=23.2 in /usr/local/lib/python3.10/dist-packages (from langchain-core<0.4.0,>=0.3.15->langchain) (24.2)\n",
            "Requirement already satisfied: typing-extensions>=4.7 in /usr/local/lib/python3.10/dist-packages (from langchain-core<0.4.0,>=0.3.15->langchain) (4.12.2)\n",
            "Requirement already satisfied: httpx<1,>=0.23.0 in /usr/local/lib/python3.10/dist-packages (from langsmith<0.2.0,>=0.1.17->langchain) (0.27.2)\n",
            "Requirement already satisfied: orjson<4.0.0,>=3.9.14 in /usr/local/lib/python3.10/dist-packages (from langsmith<0.2.0,>=0.1.17->langchain) (3.10.11)\n",
            "Requirement already satisfied: requests-toolbelt<2.0.0,>=1.0.0 in /usr/local/lib/python3.10/dist-packages (from langsmith<0.2.0,>=0.1.17->langchain) (1.0.0)\n",
            "Requirement already satisfied: annotated-types>=0.6.0 in /usr/local/lib/python3.10/dist-packages (from pydantic<3.0.0,>=2.7.4->langchain) (0.7.0)\n",
            "Requirement already satisfied: pydantic-core==2.23.4 in /usr/local/lib/python3.10/dist-packages (from pydantic<3.0.0,>=2.7.4->langchain) (2.23.4)\n",
            "Requirement already satisfied: charset-normalizer<4,>=2 in /usr/local/lib/python3.10/dist-packages (from requests<3,>=2->langchain) (3.4.0)\n",
            "Requirement already satisfied: idna<4,>=2.5 in /usr/local/lib/python3.10/dist-packages (from requests<3,>=2->langchain) (3.10)\n",
            "Requirement already satisfied: urllib3<3,>=1.21.1 in /usr/local/lib/python3.10/dist-packages (from requests<3,>=2->langchain) (2.2.3)\n",
            "Requirement already satisfied: certifi>=2017.4.17 in /usr/local/lib/python3.10/dist-packages (from requests<3,>=2->langchain) (2024.8.30)\n",
            "Requirement already satisfied: greenlet!=0.4.17 in /usr/local/lib/python3.10/dist-packages (from SQLAlchemy<3,>=1.4->langchain) (3.1.1)\n",
            "Requirement already satisfied: anyio in /usr/local/lib/python3.10/dist-packages (from httpx<1,>=0.23.0->langsmith<0.2.0,>=0.1.17->langchain) (3.7.1)\n",
            "Requirement already satisfied: httpcore==1.* in /usr/local/lib/python3.10/dist-packages (from httpx<1,>=0.23.0->langsmith<0.2.0,>=0.1.17->langchain) (1.0.6)\n",
            "Requirement already satisfied: sniffio in /usr/local/lib/python3.10/dist-packages (from httpx<1,>=0.23.0->langsmith<0.2.0,>=0.1.17->langchain) (1.3.1)\n",
            "Requirement already satisfied: h11<0.15,>=0.13 in /usr/local/lib/python3.10/dist-packages (from httpcore==1.*->httpx<1,>=0.23.0->langsmith<0.2.0,>=0.1.17->langchain) (0.14.0)\n",
            "Requirement already satisfied: jsonpointer>=1.9 in /usr/local/lib/python3.10/dist-packages (from jsonpatch<2.0,>=1.33->langchain-core<0.4.0,>=0.3.15->langchain) (3.0.0)\n",
            "Requirement already satisfied: exceptiongroup in /usr/local/lib/python3.10/dist-packages (from anyio->httpx<1,>=0.23.0->langsmith<0.2.0,>=0.1.17->langchain) (1.2.2)\n",
            "Requirement already satisfied: langchain-google-genai in /usr/local/lib/python3.10/dist-packages (2.0.5)\n",
            "Requirement already satisfied: google-generativeai<0.9.0,>=0.8.0 in /usr/local/lib/python3.10/dist-packages (from langchain-google-genai) (0.8.3)\n",
            "Requirement already satisfied: langchain-core<0.4,>=0.3.15 in /usr/local/lib/python3.10/dist-packages (from langchain-google-genai) (0.3.18)\n",
            "Requirement already satisfied: pydantic<3,>=2 in /usr/local/lib/python3.10/dist-packages (from langchain-google-genai) (2.9.2)\n",
            "Requirement already satisfied: google-ai-generativelanguage==0.6.10 in /usr/local/lib/python3.10/dist-packages (from google-generativeai<0.9.0,>=0.8.0->langchain-google-genai) (0.6.10)\n",
            "Requirement already satisfied: google-api-core in /usr/local/lib/python3.10/dist-packages (from google-generativeai<0.9.0,>=0.8.0->langchain-google-genai) (2.19.2)\n",
            "Requirement already satisfied: google-api-python-client in /usr/local/lib/python3.10/dist-packages (from google-generativeai<0.9.0,>=0.8.0->langchain-google-genai) (2.151.0)\n",
            "Requirement already satisfied: google-auth>=2.15.0 in /usr/local/lib/python3.10/dist-packages (from google-generativeai<0.9.0,>=0.8.0->langchain-google-genai) (2.27.0)\n",
            "Requirement already satisfied: protobuf in /usr/local/lib/python3.10/dist-packages (from google-generativeai<0.9.0,>=0.8.0->langchain-google-genai) (4.25.5)\n",
            "Requirement already satisfied: tqdm in /usr/local/lib/python3.10/dist-packages (from google-generativeai<0.9.0,>=0.8.0->langchain-google-genai) (4.66.6)\n",
            "Requirement already satisfied: typing-extensions in /usr/local/lib/python3.10/dist-packages (from google-generativeai<0.9.0,>=0.8.0->langchain-google-genai) (4.12.2)\n",
            "Requirement already satisfied: proto-plus<2.0.0dev,>=1.22.3 in /usr/local/lib/python3.10/dist-packages (from google-ai-generativelanguage==0.6.10->google-generativeai<0.9.0,>=0.8.0->langchain-google-genai) (1.25.0)\n",
            "Requirement already satisfied: PyYAML>=5.3 in /usr/local/lib/python3.10/dist-packages (from langchain-core<0.4,>=0.3.15->langchain-google-genai) (6.0.2)\n",
            "Requirement already satisfied: jsonpatch<2.0,>=1.33 in /usr/local/lib/python3.10/dist-packages (from langchain-core<0.4,>=0.3.15->langchain-google-genai) (1.33)\n",
            "Requirement already satisfied: langsmith<0.2.0,>=0.1.125 in /usr/local/lib/python3.10/dist-packages (from langchain-core<0.4,>=0.3.15->langchain-google-genai) (0.1.143)\n",
            "Requirement already satisfied: packaging<25,>=23.2 in /usr/local/lib/python3.10/dist-packages (from langchain-core<0.4,>=0.3.15->langchain-google-genai) (24.2)\n",
            "Requirement already satisfied: tenacity!=8.4.0,<10.0.0,>=8.1.0 in /usr/local/lib/python3.10/dist-packages (from langchain-core<0.4,>=0.3.15->langchain-google-genai) (9.0.0)\n",
            "Requirement already satisfied: annotated-types>=0.6.0 in /usr/local/lib/python3.10/dist-packages (from pydantic<3,>=2->langchain-google-genai) (0.7.0)\n",
            "Requirement already satisfied: pydantic-core==2.23.4 in /usr/local/lib/python3.10/dist-packages (from pydantic<3,>=2->langchain-google-genai) (2.23.4)\n",
            "Requirement already satisfied: googleapis-common-protos<2.0.dev0,>=1.56.2 in /usr/local/lib/python3.10/dist-packages (from google-api-core->google-generativeai<0.9.0,>=0.8.0->langchain-google-genai) (1.66.0)\n",
            "Requirement already satisfied: requests<3.0.0.dev0,>=2.18.0 in /usr/local/lib/python3.10/dist-packages (from google-api-core->google-generativeai<0.9.0,>=0.8.0->langchain-google-genai) (2.32.3)\n",
            "Requirement already satisfied: cachetools<6.0,>=2.0.0 in /usr/local/lib/python3.10/dist-packages (from google-auth>=2.15.0->google-generativeai<0.9.0,>=0.8.0->langchain-google-genai) (5.5.0)\n",
            "Requirement already satisfied: pyasn1-modules>=0.2.1 in /usr/local/lib/python3.10/dist-packages (from google-auth>=2.15.0->google-generativeai<0.9.0,>=0.8.0->langchain-google-genai) (0.4.1)\n",
            "Requirement already satisfied: rsa<5,>=3.1.4 in /usr/local/lib/python3.10/dist-packages (from google-auth>=2.15.0->google-generativeai<0.9.0,>=0.8.0->langchain-google-genai) (4.9)\n",
            "Requirement already satisfied: jsonpointer>=1.9 in /usr/local/lib/python3.10/dist-packages (from jsonpatch<2.0,>=1.33->langchain-core<0.4,>=0.3.15->langchain-google-genai) (3.0.0)\n",
            "Requirement already satisfied: httpx<1,>=0.23.0 in /usr/local/lib/python3.10/dist-packages (from langsmith<0.2.0,>=0.1.125->langchain-core<0.4,>=0.3.15->langchain-google-genai) (0.27.2)\n",
            "Requirement already satisfied: orjson<4.0.0,>=3.9.14 in /usr/local/lib/python3.10/dist-packages (from langsmith<0.2.0,>=0.1.125->langchain-core<0.4,>=0.3.15->langchain-google-genai) (3.10.11)\n",
            "Requirement already satisfied: requests-toolbelt<2.0.0,>=1.0.0 in /usr/local/lib/python3.10/dist-packages (from langsmith<0.2.0,>=0.1.125->langchain-core<0.4,>=0.3.15->langchain-google-genai) (1.0.0)\n",
            "Requirement already satisfied: httplib2<1.dev0,>=0.19.0 in /usr/local/lib/python3.10/dist-packages (from google-api-python-client->google-generativeai<0.9.0,>=0.8.0->langchain-google-genai) (0.22.0)\n",
            "Requirement already satisfied: google-auth-httplib2<1.0.0,>=0.2.0 in /usr/local/lib/python3.10/dist-packages (from google-api-python-client->google-generativeai<0.9.0,>=0.8.0->langchain-google-genai) (0.2.0)\n",
            "Requirement already satisfied: uritemplate<5,>=3.0.1 in /usr/local/lib/python3.10/dist-packages (from google-api-python-client->google-generativeai<0.9.0,>=0.8.0->langchain-google-genai) (4.1.1)\n",
            "Requirement already satisfied: grpcio<2.0dev,>=1.33.2 in /usr/local/lib/python3.10/dist-packages (from google-api-core[grpc]!=2.0.*,!=2.1.*,!=2.10.*,!=2.2.*,!=2.3.*,!=2.4.*,!=2.5.*,!=2.6.*,!=2.7.*,!=2.8.*,!=2.9.*,<3.0.0dev,>=1.34.1->google-ai-generativelanguage==0.6.10->google-generativeai<0.9.0,>=0.8.0->langchain-google-genai) (1.67.1)\n",
            "Requirement already satisfied: grpcio-status<2.0.dev0,>=1.33.2 in /usr/local/lib/python3.10/dist-packages (from google-api-core[grpc]!=2.0.*,!=2.1.*,!=2.10.*,!=2.2.*,!=2.3.*,!=2.4.*,!=2.5.*,!=2.6.*,!=2.7.*,!=2.8.*,!=2.9.*,<3.0.0dev,>=1.34.1->google-ai-generativelanguage==0.6.10->google-generativeai<0.9.0,>=0.8.0->langchain-google-genai) (1.62.3)\n",
            "Requirement already satisfied: pyparsing!=3.0.0,!=3.0.1,!=3.0.2,!=3.0.3,<4,>=2.4.2 in /usr/local/lib/python3.10/dist-packages (from httplib2<1.dev0,>=0.19.0->google-api-python-client->google-generativeai<0.9.0,>=0.8.0->langchain-google-genai) (3.2.0)\n",
            "Requirement already satisfied: anyio in /usr/local/lib/python3.10/dist-packages (from httpx<1,>=0.23.0->langsmith<0.2.0,>=0.1.125->langchain-core<0.4,>=0.3.15->langchain-google-genai) (3.7.1)\n",
            "Requirement already satisfied: certifi in /usr/local/lib/python3.10/dist-packages (from httpx<1,>=0.23.0->langsmith<0.2.0,>=0.1.125->langchain-core<0.4,>=0.3.15->langchain-google-genai) (2024.8.30)\n",
            "Requirement already satisfied: httpcore==1.* in /usr/local/lib/python3.10/dist-packages (from httpx<1,>=0.23.0->langsmith<0.2.0,>=0.1.125->langchain-core<0.4,>=0.3.15->langchain-google-genai) (1.0.6)\n",
            "Requirement already satisfied: idna in /usr/local/lib/python3.10/dist-packages (from httpx<1,>=0.23.0->langsmith<0.2.0,>=0.1.125->langchain-core<0.4,>=0.3.15->langchain-google-genai) (3.10)\n",
            "Requirement already satisfied: sniffio in /usr/local/lib/python3.10/dist-packages (from httpx<1,>=0.23.0->langsmith<0.2.0,>=0.1.125->langchain-core<0.4,>=0.3.15->langchain-google-genai) (1.3.1)\n",
            "Requirement already satisfied: h11<0.15,>=0.13 in /usr/local/lib/python3.10/dist-packages (from httpcore==1.*->httpx<1,>=0.23.0->langsmith<0.2.0,>=0.1.125->langchain-core<0.4,>=0.3.15->langchain-google-genai) (0.14.0)\n",
            "Requirement already satisfied: pyasn1<0.7.0,>=0.4.6 in /usr/local/lib/python3.10/dist-packages (from pyasn1-modules>=0.2.1->google-auth>=2.15.0->google-generativeai<0.9.0,>=0.8.0->langchain-google-genai) (0.6.1)\n",
            "Requirement already satisfied: charset-normalizer<4,>=2 in /usr/local/lib/python3.10/dist-packages (from requests<3.0.0.dev0,>=2.18.0->google-api-core->google-generativeai<0.9.0,>=0.8.0->langchain-google-genai) (3.4.0)\n",
            "Requirement already satisfied: urllib3<3,>=1.21.1 in /usr/local/lib/python3.10/dist-packages (from requests<3.0.0.dev0,>=2.18.0->google-api-core->google-generativeai<0.9.0,>=0.8.0->langchain-google-genai) (2.2.3)\n",
            "Requirement already satisfied: exceptiongroup in /usr/local/lib/python3.10/dist-packages (from anyio->httpx<1,>=0.23.0->langsmith<0.2.0,>=0.1.125->langchain-core<0.4,>=0.3.15->langchain-google-genai) (1.2.2)\n"
          ]
        }
      ],
      "source": [
        "# prompt: install langchain\n",
        "\n",
        "!pip install langchain\n",
        "!pip install langchain-google-genai"
      ]
    },
    {
      "cell_type": "code",
      "execution_count": null,
      "metadata": {
        "id": "gWKf7eY-ncBM"
      },
      "outputs": [],
      "source": [
        "from langchain_core.prompts import PromptTemplate\n",
        "from langchain_google_genai import GoogleGenerativeAIEmbeddings\n",
        "from langchain_google_genai import ChatGoogleGenerativeAI\n",
        "import google.generativeai as genai"
      ]
    },
    {
      "cell_type": "code",
      "execution_count": null,
      "metadata": {
        "id": "ZXIYc1vznmGL"
      },
      "outputs": [],
      "source": [
        "from google.colab import auth\n",
        "from googleapiclient.discovery import build\n",
        "from google.auth.transport.requests import Request\n",
        "import os\n",
        "\n",
        "auth.authenticate_user()\n",
        "\n",
        "drive_service = build('drive', 'v3')\n",
        "#folder_id = '1AUQMMqnypEj8GGRcIiGeWMhHmwLgZZj6'  # arrest\n",
        "\n",
        "folder_id = '1ObEc85b83DK9FnSDKpeeaUDUMt-4WDdh'  # abuse\n",
        "results = drive_service.files().list(\n",
        "    q=f\"'{folder_id}' in parents\", fields=\"files(id, name)\").execute()\n",
        "\n",
        "files = results.get('files', [])\n"
      ]
    },
    {
      "cell_type": "code",
      "execution_count": null,
      "metadata": {
        "id": "7KNfp2YTsc4G"
      },
      "outputs": [],
      "source": [
        "import io\n",
        "from googleapiclient.http import MediaIoBaseDownload\n",
        "\n",
        "# Loop through each file in the folder and download it to the abuse folder\n",
        "for file in files:\n",
        "    file_id = file['id']\n",
        "    file_name = file['name']\n",
        "\n",
        "    # Define the path to save the file\n",
        "    file_path = os.path.join('/content/abuse', file_name)\n",
        "\n",
        "    # Request the file from Google Drive\n",
        "    request = drive_service.files().get_media(fileId=file_id)\n",
        "\n",
        "    # Open a file handle to save the file\n",
        "    fh = io.FileIO(file_path, 'wb')\n",
        "    downloader = MediaIoBaseDownload(fh, request)\n",
        "\n",
        "    done = False\n",
        "    while done is False:\n",
        "        status, done = downloader.next_chunk()\n",
        "        print(f\"Download {file_name} to {file_path} {int(status.progress() * 100)}%.\")\n"
      ]
    },
    {
      "cell_type": "code",
      "execution_count": null,
      "metadata": {
        "id": "-MwI_cbynrnH"
      },
      "outputs": [],
      "source": [
        "from google.colab import userdata\n",
        "GOOGLE_API_KEY = userdata.get('gemini_api')\n"
      ]
    },
    {
      "cell_type": "code",
      "execution_count": null,
      "metadata": {
        "id": "hPe9ffIfwAPB"
      },
      "outputs": [],
      "source": [
        "!pip install -q -U google-generativeai"
      ]
    },
    {
      "cell_type": "code",
      "execution_count": null,
      "metadata": {
        "id": "1pvI1ReaoQjL"
      },
      "outputs": [],
      "source": [
        "import google.generativeai as genai\n",
        "from google.colab import userdata\n",
        "genai.configure(api_key=userdata.get('gemini')\n",
        ")\n",
        "model = genai.GenerativeModel(\"gemini-1.5-pro-latest\" )\n"
      ]
    },
    {
      "cell_type": "code",
      "execution_count": null,
      "metadata": {
        "colab": {
          "base_uri": "https://localhost:8080/",
          "height": 1000
        },
        "id": "0N90j8LInaGH",
        "outputId": "4b640b39-7b10-4111-dcac-0d0df358ca8c"
      },
      "outputs": [
        {
          "output_type": "stream",
          "name": "stdout",
          "text": [
            "Processing video: Abuse012_x264.mp4\n",
            "Uploaded: https://generativelanguage.googleapis.com/v1beta/files/wsbjctbkn52b\n",
            ".Report saved for Abuse012_x264.mp4: /content/reports/Abuse012_x264.mp4_report.txt\n",
            "Processing video: Abuse011_x264.mp4\n",
            "Uploaded: https://generativelanguage.googleapis.com/v1beta/files/97rvdpvwd578\n",
            ".Report saved for Abuse011_x264.mp4: /content/reports/Abuse011_x264.mp4_report.txt\n",
            "Processing video: Abuse028_x264.mp4\n",
            "Uploaded: https://generativelanguage.googleapis.com/v1beta/files/ny7az561fhes\n",
            "..Report saved for Abuse028_x264.mp4: /content/reports/Abuse028_x264.mp4_report.txt\n",
            "Processing video: Abuse008_x264.mp4\n",
            "Uploaded: https://generativelanguage.googleapis.com/v1beta/files/es7wvsgaxpky\n",
            "...Error processing Abuse008_x264.mp4: ('Connection aborted.', RemoteDisconnected('Remote end closed connection without response'))\n",
            "Processing video: Abuse017_x264.mp4\n",
            "Uploaded: https://generativelanguage.googleapis.com/v1beta/files/jceb8i5v1vv2\n",
            "........Report saved for Abuse017_x264.mp4: /content/reports/Abuse017_x264.mp4_report.txt\n",
            "Processing video: Abuse045_x264.mp4\n",
            "Uploaded: https://generativelanguage.googleapis.com/v1beta/files/mppssmqnmkji\n",
            "...Report saved for Abuse045_x264.mp4: /content/reports/Abuse045_x264.mp4_report.txt\n",
            "Processing video: Abuse010_x264.mp4\n",
            "Uploaded: https://generativelanguage.googleapis.com/v1beta/files/p0fpj2z45eh4\n",
            "..Report saved for Abuse010_x264.mp4: /content/reports/Abuse010_x264.mp4_report.txt\n",
            "Processing video: Abuse024_x264.mp4\n",
            "Uploaded: https://generativelanguage.googleapis.com/v1beta/files/rbz2pf8dy1bw\n",
            ".Report saved for Abuse024_x264.mp4: /content/reports/Abuse024_x264.mp4_report.txt\n",
            "Processing video: Abuse001_x264.mp4\n",
            "Uploaded: https://generativelanguage.googleapis.com/v1beta/files/lb7ppizpd6gu\n",
            "..."
          ]
        },
        {
          "output_type": "stream",
          "name": "stderr",
          "text": [
            "WARNING:tornado.access:429 POST /v1beta/models/gemini-1.5-pro-latest:generateContent?%24alt=json%3Benum-encoding%3Dint (127.0.0.1) 534.73ms\n"
          ]
        },
        {
          "output_type": "stream",
          "name": "stdout",
          "text": [
            "Error processing Abuse001_x264.mp4: 429 POST https://generativelanguage.googleapis.com/v1beta/models/gemini-1.5-pro-latest:generateContent?%24alt=json%3Benum-encoding%3Dint: Resource has been exhausted (e.g. check quota).\n",
            "Processing video: Abuse044_x264.mp4\n",
            "Uploaded: https://generativelanguage.googleapis.com/v1beta/files/vdda5l98qrb3\n",
            "....Report saved for Abuse044_x264.mp4: /content/reports/Abuse044_x264.mp4_report.txt\n",
            "Processing video: Abuse018_x264.mp4\n",
            "Uploaded: https://generativelanguage.googleapis.com/v1beta/files/iyccq4r0of07\n",
            "..Report saved for Abuse018_x264.mp4: /content/reports/Abuse018_x264.mp4_report.txt\n",
            "Processing video: Abuse030_x264.mp4\n",
            "Uploaded: https://generativelanguage.googleapis.com/v1beta/files/fttxlq0vlk3q\n",
            "..Report saved for Abuse030_x264.mp4: /content/reports/Abuse030_x264.mp4_report.txt\n",
            "Processing video: Abuse003_x264.mp4\n",
            "Uploaded: https://generativelanguage.googleapis.com/v1beta/files/epa9u00o7wh\n",
            "...Report saved for Abuse003_x264.mp4: /content/reports/Abuse003_x264.mp4_report.txt\n",
            "Processing video: Abuse007_x264.mp4\n",
            "Uploaded: https://generativelanguage.googleapis.com/v1beta/files/q6f57jusxy00\n",
            "..Error processing Abuse007_x264.mp4: ('Connection aborted.', RemoteDisconnected('Remote end closed connection without response'))\n",
            "Processing video: Abuse029_x264.mp4\n",
            "Uploaded: https://generativelanguage.googleapis.com/v1beta/files/xdsr0uymmq7h\n",
            ".Report saved for Abuse029_x264.mp4: /content/reports/Abuse029_x264.mp4_report.txt\n",
            "Processing video: Abuse039_x264.mp4\n",
            "Uploaded: https://generativelanguage.googleapis.com/v1beta/files/qnc36d4gx20f\n",
            ".Error processing Abuse039_x264.mp4: ('Connection aborted.', ConnectionResetError(104, 'Connection reset by peer'))\n",
            "Processing video: Abuse048_x264.mp4\n",
            "Uploaded: https://generativelanguage.googleapis.com/v1beta/files/cs7iromsduzu\n",
            "......Error processing Abuse048_x264.mp4: ('Connection aborted.', RemoteDisconnected('Remote end closed connection without response'))\n",
            "Processing video: Abuse016_x264.mp4\n",
            "Uploaded: https://generativelanguage.googleapis.com/v1beta/files/f1li4comvm7o\n",
            "..........Error processing Abuse016_x264.mp4: ('Connection aborted.', ConnectionResetError(104, 'Connection reset by peer'))\n",
            "Processing video: Abuse046_x264.mp4\n",
            "Uploaded: https://generativelanguage.googleapis.com/v1beta/files/7edu3khk0mma\n",
            ".....Error processing Abuse046_x264.mp4: ('Connection aborted.', ConnectionResetError(104, 'Connection reset by peer'))\n",
            "Processing video: Abuse036_x264.mp4\n",
            "Uploaded: https://generativelanguage.googleapis.com/v1beta/files/jijbfuqcqxwe\n",
            "....Report saved for Abuse036_x264.mp4: /content/reports/Abuse036_x264.mp4_report.txt\n",
            "Processing video: Abuse027_x264.mp4\n",
            "Uploaded: https://generativelanguage.googleapis.com/v1beta/files/jae3pt7jjumr\n",
            "...Report saved for Abuse027_x264.mp4: /content/reports/Abuse027_x264.mp4_report.txt\n",
            "Processing video: Abuse042_x264.mp4\n",
            "Uploaded: https://generativelanguage.googleapis.com/v1beta/files/q6473j4b4aym\n",
            "........Error processing Abuse042_x264.mp4: ('Connection aborted.', ConnectionResetError(104, 'Connection reset by peer'))\n",
            "Processing video: Abuse032_x264.mp4\n",
            "Uploaded: https://generativelanguage.googleapis.com/v1beta/files/wey1o1eb89e2\n",
            ".......Error processing Abuse032_x264.mp4: ('Connection aborted.', RemoteDisconnected('Remote end closed connection without response'))\n",
            "Processing video: Abuse049_x264.mp4\n",
            "Uploaded: https://generativelanguage.googleapis.com/v1beta/files/w50tx01bcxyh\n",
            "...Error processing Abuse049_x264.mp4: ('Connection aborted.', ConnectionResetError(104, 'Connection reset by peer'))\n",
            "Processing video: Abuse006_x264.mp4\n",
            "Uploaded: https://generativelanguage.googleapis.com/v1beta/files/39o2vyjvocyj\n",
            "...Error processing Abuse006_x264.mp4: ('Connection aborted.', RemoteDisconnected('Remote end closed connection without response'))\n",
            "Processing video: Arrest028_x264.mp4\n",
            "Uploaded: https://generativelanguage.googleapis.com/v1beta/files/hoggvzepyzbx\n",
            ".......Error processing Arrest028_x264.mp4: ('Connection aborted.', RemoteDisconnected('Remote end closed connection without response'))\n",
            "Processing video: Abuse047_x264.mp4\n",
            "Uploaded: https://generativelanguage.googleapis.com/v1beta/files/pfkooqhfp39r\n",
            "..Report saved for Abuse047_x264.mp4: /content/reports/Abuse047_x264.mp4_report.txt\n",
            "Processing video: Abuse004_x264.mp4\n",
            "Uploaded: https://generativelanguage.googleapis.com/v1beta/files/8hexyv3ep25p\n",
            "..Error processing Abuse004_x264.mp4: ('Connection aborted.', RemoteDisconnected('Remote end closed connection without response'))\n",
            "Processing video: Abuse031_x264.mp4\n",
            "Uploaded: https://generativelanguage.googleapis.com/v1beta/files/dx8mns2f130j\n",
            ".......Error processing Abuse031_x264.mp4: ('Connection aborted.', ConnectionResetError(104, 'Connection reset by peer'))\n",
            "Processing video: Arrest021_x264.mp4\n",
            "Uploaded: https://generativelanguage.googleapis.com/v1beta/files/cgr4hqc1bhjv\n",
            "....Report saved for Arrest021_x264.mp4: /content/reports/Arrest021_x264.mp4_report.txt\n",
            "Processing video: Abuse040_x264.mp4\n",
            "Uploaded: https://generativelanguage.googleapis.com/v1beta/files/vw3v5jq4fmdl\n",
            "...Error processing Abuse040_x264.mp4: ('Connection aborted.', RemoteDisconnected('Remote end closed connection without response'))\n",
            "Processing video: Abuse019_x264.mp4\n",
            "Uploaded: https://generativelanguage.googleapis.com/v1beta/files/zt98jrkpmsc1\n",
            ".Error processing Abuse019_x264.mp4: ('Connection aborted.', ConnectionResetError(104, 'Connection reset by peer'))\n",
            "Processing video: Abuse050_x264.mp4\n",
            "Uploaded: https://generativelanguage.googleapis.com/v1beta/files/s5nyyh3efti\n",
            ".........Error processing Abuse050_x264.mp4: ('Connection aborted.', RemoteDisconnected('Remote end closed connection without response'))\n",
            "Processing video: Abuse021_x264.mp4\n",
            "Uploaded: https://generativelanguage.googleapis.com/v1beta/files/xxpcw3guxcoc\n",
            ".Report saved for Abuse021_x264.mp4: /content/reports/Abuse021_x264.mp4_report.txt\n",
            "Processing video: Abuse015_x264.mp4\n",
            "Uploaded: https://generativelanguage.googleapis.com/v1beta/files/ygky2rejwhh8\n",
            "...Error processing Abuse015_x264.mp4: ('Connection aborted.', RemoteDisconnected('Remote end closed connection without response'))\n",
            "Processing video: Abuse014_x264.mp4\n",
            "Uploaded: https://generativelanguage.googleapis.com/v1beta/files/q6r9tm8xqrxd\n",
            ".......Error processing Abuse014_x264.mp4: ('Connection aborted.', RemoteDisconnected('Remote end closed connection without response'))\n",
            "Processing video: Abuse020_x264.mp4\n",
            "Uploaded: https://generativelanguage.googleapis.com/v1beta/files/y2vgrc0u382a\n",
            "...Report saved for Abuse020_x264.mp4: /content/reports/Abuse020_x264.mp4_report.txt\n",
            "Processing video: Arrest026_x264.mp4\n",
            "Uploaded: https://generativelanguage.googleapis.com/v1beta/files/t3y331umxrwz\n",
            ".....Report saved for Arrest026_x264.mp4: /content/reports/Arrest026_x264.mp4_report.txt\n",
            "Processing video: Abuse009_x264.mp4\n",
            "Uploaded: https://generativelanguage.googleapis.com/v1beta/files/lsap1mq5era1\n",
            "."
          ]
        },
        {
          "output_type": "stream",
          "name": "stderr",
          "text": [
            "WARNING:tornado.access:429 POST /v1beta/models/gemini-1.5-pro-latest:generateContent?%24alt=json%3Benum-encoding%3Dint (127.0.0.1) 565.90ms\n"
          ]
        },
        {
          "output_type": "stream",
          "name": "stdout",
          "text": [
            "Error processing Abuse009_x264.mp4: 429 POST https://generativelanguage.googleapis.com/v1beta/models/gemini-1.5-pro-latest:generateContent?%24alt=json%3Benum-encoding%3Dint: Resource has been exhausted (e.g. check quota).\n",
            "Processing video: Abuse023_x264.mp4\n",
            "Uploaded: https://generativelanguage.googleapis.com/v1beta/files/76eqriy8ryq\n",
            "..Report saved for Abuse023_x264.mp4: /content/reports/Abuse023_x264.mp4_report.txt\n",
            "Processing video: Abuse002_x264.mp4\n",
            "Uploaded: https://generativelanguage.googleapis.com/v1beta/files/3lom132iygn4\n",
            ".Report saved for Abuse002_x264.mp4: /content/reports/Abuse002_x264.mp4_report.txt\n",
            "Processing video: Arrest025_x264.mp4\n",
            "Uploaded: https://generativelanguage.googleapis.com/v1beta/files/87annyt9xtvc\n",
            "..Report saved for Arrest025_x264.mp4: /content/reports/Arrest025_x264.mp4_report.txt\n",
            "Processing video: Abuse034_x264.mp4\n",
            "Uploaded: https://generativelanguage.googleapis.com/v1beta/files/jv5nfc8cp2l1\n",
            "..Report saved for Abuse034_x264.mp4: /content/reports/Abuse034_x264.mp4_report.txt\n",
            "Processing video: Abuse038_x264.mp4\n",
            "Uploaded: https://generativelanguage.googleapis.com/v1beta/files/joi3s59gdu8f\n",
            ".Report saved for Abuse038_x264.mp4: /content/reports/Abuse038_x264.mp4_report.txt\n",
            "Processing video: Arrest020_x264.mp4\n",
            "Error processing Arrest020_x264.mp4: ('Connection aborted.', BadStatusLine('HTTP/1.1 3 Unknown\\r\\n'))\n",
            "Processing video: Abuse041_x264.mp4\n",
            "Uploaded: https://generativelanguage.googleapis.com/v1beta/files/9prry2f88c9n\n",
            ".Report saved for Abuse041_x264.mp4: /content/reports/Abuse041_x264.mp4_report.txt\n",
            "Processing video: Arrest027_x264.mp4\n",
            "Uploaded: https://generativelanguage.googleapis.com/v1beta/files/bfrsbtvsef61\n",
            ".Report saved for Arrest027_x264.mp4: /content/reports/Arrest027_x264.mp4_report.txt\n",
            "Processing video: Abuse043_x264.mp4\n",
            "Uploaded: https://generativelanguage.googleapis.com/v1beta/files/oa9dd1h9uyuh\n",
            "...Report saved for Abuse043_x264.mp4: /content/reports/Abuse043_x264.mp4_report.txt\n",
            "Processing video: Abuse037_x264.mp4\n",
            "Uploaded: https://generativelanguage.googleapis.com/v1beta/files/xrhu76xizfi1\n",
            "..Report saved for Abuse037_x264.mp4: /content/reports/Abuse037_x264.mp4_report.txt\n",
            "Processing video: Abuse035_x264.mp4\n",
            "Uploaded: https://generativelanguage.googleapis.com/v1beta/files/a93yzlx7rfnd\n",
            "..Report saved for Abuse035_x264.mp4: /content/reports/Abuse035_x264.mp4_report.txt\n",
            "Processing video: Abuse026_x264.mp4\n",
            "Uploaded: https://generativelanguage.googleapis.com/v1beta/files/lci29fworfyg\n",
            ".Error processing Abuse026_x264.mp4: ('Connection aborted.', RemoteDisconnected('Remote end closed connection without response'))\n",
            "Processing video: Abuse005_x264.mp4\n",
            "Uploaded: https://generativelanguage.googleapis.com/v1beta/files/chf1c6se8nb4\n",
            "........Report saved for Abuse005_x264.mp4: /content/reports/Abuse005_x264.mp4_report.txt\n",
            "Processing video: Abuse022_x264.mp4\n",
            "Uploaded: https://generativelanguage.googleapis.com/v1beta/files/q3ogdt0uqimg\n",
            "..Error processing Abuse022_x264.mp4: ('Connection aborted.', ConnectionResetError(104, 'Connection reset by peer'))\n",
            "Processing video: Abuse013_x264.mp4\n",
            "Uploaded: https://generativelanguage.googleapis.com/v1beta/files/v1vf61y9vt2n\n",
            "....Error processing Abuse013_x264.mp4: ('Connection aborted.', ConnectionResetError(104, 'Connection reset by peer'))\n",
            "Processing video: Abuse033_x264.mp4\n",
            "Uploaded: https://generativelanguage.googleapis.com/v1beta/files/nfmw01tqlg63\n",
            ".......Error processing Abuse033_x264.mp4: ('Connection aborted.', ConnectionResetError(104, 'Connection reset by peer'))\n",
            "Processing video: Arrest002_x264.mp4\n",
            "Uploaded: https://generativelanguage.googleapis.com/v1beta/files/7d1l0kqt72js\n",
            "......Error processing Arrest002_x264.mp4: ('Connection aborted.', RemoteDisconnected('Remote end closed connection without response'))\n",
            "Processing video: Arrest007_x264.mp4\n",
            "Uploaded: https://generativelanguage.googleapis.com/v1beta/files/n499j145fvsn\n",
            "........Error processing Arrest007_x264.mp4: ('Connection aborted.', RemoteDisconnected('Remote end closed connection without response'))\n",
            "Processing video: Arrest004_x264.mp4\n",
            "Uploaded: https://generativelanguage.googleapis.com/v1beta/files/zwwdoa3tiwmw\n",
            "....Report saved for Arrest004_x264.mp4: /content/reports/Arrest004_x264.mp4_report.txt\n",
            "Processing video: Arrest008_x264.mp4\n",
            "Uploaded: https://generativelanguage.googleapis.com/v1beta/files/nbb9xu01xd1w\n",
            ".....Report saved for Arrest008_x264.mp4: /content/reports/Arrest008_x264.mp4_report.txt\n",
            "Processing video: Arrest019_x264.mp4\n",
            "Uploaded: https://generativelanguage.googleapis.com/v1beta/files/ixl5pyzq0jk4\n",
            ".Report saved for Arrest019_x264.mp4: /content/reports/Arrest019_x264.mp4_report.txt\n",
            "Processing video: Arrest018_x264.mp4\n",
            "Uploaded: https://generativelanguage.googleapis.com/v1beta/files/ty7nx9nfx1zn\n",
            "..Report saved for Arrest018_x264.mp4: /content/reports/Arrest018_x264.mp4_report.txt\n",
            "Processing video: Arrest016_x264.mp4\n",
            "Uploaded: https://generativelanguage.googleapis.com/v1beta/files/bytsrtgsxa2m\n",
            "...."
          ]
        },
        {
          "output_type": "stream",
          "name": "stderr",
          "text": [
            "WARNING:tornado.access:429 POST /v1beta/models/gemini-1.5-pro-latest:generateContent?%24alt=json%3Benum-encoding%3Dint (127.0.0.1) 534.01ms\n"
          ]
        },
        {
          "output_type": "stream",
          "name": "stdout",
          "text": [
            "Error processing Arrest016_x264.mp4: 429 POST https://generativelanguage.googleapis.com/v1beta/models/gemini-1.5-pro-latest:generateContent?%24alt=json%3Benum-encoding%3Dint: Resource has been exhausted (e.g. check quota).\n",
            "Processing video: Arrest009_x264.mp4\n",
            "Uploaded: https://generativelanguage.googleapis.com/v1beta/files/gatnrdmbced\n",
            "..Report saved for Arrest009_x264.mp4: /content/reports/Arrest009_x264.mp4_report.txt\n",
            "Processing video: Arrest023_x264.mp4\n",
            "Uploaded: https://generativelanguage.googleapis.com/v1beta/files/3odfrzhr0yhi\n",
            "..Report saved for Arrest023_x264.mp4: /content/reports/Arrest023_x264.mp4_report.txt\n",
            "Processing video: Arrest006_x264.mp4\n",
            "Uploaded: https://generativelanguage.googleapis.com/v1beta/files/p8p7k0p90gds\n",
            ".Report saved for Arrest006_x264.mp4: /content/reports/Arrest006_x264.mp4_report.txt\n",
            "Processing video: Arrest014_x264.mp4\n",
            "Uploaded: https://generativelanguage.googleapis.com/v1beta/files/k8dy1m5q667t\n",
            ".."
          ]
        },
        {
          "output_type": "stream",
          "name": "stderr",
          "text": [
            "WARNING:tornado.access:429 POST /v1beta/models/gemini-1.5-pro-latest:generateContent?%24alt=json%3Benum-encoding%3Dint (127.0.0.1) 561.22ms\n"
          ]
        },
        {
          "output_type": "stream",
          "name": "stdout",
          "text": [
            "Error processing Arrest014_x264.mp4: 429 POST https://generativelanguage.googleapis.com/v1beta/models/gemini-1.5-pro-latest:generateContent?%24alt=json%3Benum-encoding%3Dint: Resource has been exhausted (e.g. check quota).\n",
            "Processing video: Arrest028_x264.mp4\n",
            "Uploaded: https://generativelanguage.googleapis.com/v1beta/files/9atvf2jg8185\n",
            "...Report saved for Arrest028_x264.mp4: /content/reports/Arrest028_x264.mp4_report.txt\n",
            "Processing video: Arrest011_x264.mp4\n",
            "Uploaded: https://generativelanguage.googleapis.com/v1beta/files/1k63wrcbcocd\n",
            ".."
          ]
        },
        {
          "output_type": "stream",
          "name": "stderr",
          "text": [
            "WARNING:tornado.access:429 POST /v1beta/models/gemini-1.5-pro-latest:generateContent?%24alt=json%3Benum-encoding%3Dint (127.0.0.1) 534.86ms\n"
          ]
        },
        {
          "output_type": "stream",
          "name": "stdout",
          "text": [
            "Error processing Arrest011_x264.mp4: 429 POST https://generativelanguage.googleapis.com/v1beta/models/gemini-1.5-pro-latest:generateContent?%24alt=json%3Benum-encoding%3Dint: Resource has been exhausted (e.g. check quota).\n",
            "Processing video: Arrest021_x264.mp4\n",
            "Uploaded: https://generativelanguage.googleapis.com/v1beta/files/5pwzjcw6e4u\n",
            "......Error processing Arrest021_x264.mp4: ('Connection aborted.', ConnectionResetError(104, 'Connection reset by peer'))\n",
            "Processing video: Arrest024_x264.mp4\n",
            "Uploaded: https://generativelanguage.googleapis.com/v1beta/files/yqzexn3bhw91\n",
            "........Report saved for Arrest024_x264.mp4: /content/reports/Arrest024_x264.mp4_report.txt\n",
            "Processing video: Arrest012_x264.mp4\n",
            "Uploaded: https://generativelanguage.googleapis.com/v1beta/files/gutk8ieyy3ft\n",
            ".....Error processing Arrest012_x264.mp4: ('Connection aborted.', ConnectionResetError(104, 'Connection reset by peer'))\n",
            "Processing video: Arrest005_x264.mp4\n",
            "Uploaded: https://generativelanguage.googleapis.com/v1beta/files/gw1ddc26h2j2\n",
            ".......Error processing Arrest005_x264.mp4: ('Connection aborted.', RemoteDisconnected('Remote end closed connection without response'))\n",
            "Processing video: Arrest026_x264.mp4\n",
            "Uploaded: https://generativelanguage.googleapis.com/v1beta/files/zma28czj0l5r\n",
            ".....Error processing Arrest026_x264.mp4: ('Connection aborted.', RemoteDisconnected('Remote end closed connection without response'))\n",
            "Processing video: Arrest017_x264.mp4\n",
            "Uploaded: https://generativelanguage.googleapis.com/v1beta/files/peortpefo0a0\n",
            "..Error processing Arrest017_x264.mp4: ('Connection aborted.', ConnectionResetError(104, 'Connection reset by peer'))\n",
            "Processing video: Arrest025_x264.mp4\n",
            "Uploaded: https://generativelanguage.googleapis.com/v1beta/files/tfegr05guc3z\n",
            "......Error processing Arrest025_x264.mp4: ('Connection aborted.', ConnectionResetError(104, 'Connection reset by peer'))\n",
            "Processing video: Arrest010_x264.mp4\n",
            "Uploaded: https://generativelanguage.googleapis.com/v1beta/files/fxfcbuumnvob\n",
            "........Error processing Arrest010_x264.mp4: ('Connection aborted.', RemoteDisconnected('Remote end closed connection without response'))\n",
            "Processing video: Arrest020_x264.mp4\n",
            "Uploaded: https://generativelanguage.googleapis.com/v1beta/files/o4qooupeqgm\n",
            "...Report saved for Arrest020_x264.mp4: /content/reports/Arrest020_x264.mp4_report.txt\n",
            "Processing video: Arrest001_x264.mp4\n",
            "Uploaded: https://generativelanguage.googleapis.com/v1beta/files/38q0fgs66hg2\n",
            ".........Report saved for Arrest001_x264.mp4: /content/reports/Arrest001_x264.mp4_report.txt\n",
            "Processing video: Arrest027_x264.mp4\n",
            "Uploaded: https://generativelanguage.googleapis.com/v1beta/files/h54313mg6tfp\n",
            "..Report saved for Arrest027_x264.mp4: /content/reports/Arrest027_x264.mp4_report.txt\n",
            "Processing video: Arrest015_x264.mp4\n",
            "Uploaded: https://generativelanguage.googleapis.com/v1beta/files/nu1ykf6qi8eq\n",
            "."
          ]
        },
        {
          "output_type": "stream",
          "name": "stderr",
          "text": [
            "ERROR:tornado.access:503 POST /v1beta/models/gemini-1.5-pro-latest:generateContent?%24alt=json%3Benum-encoding%3Dint (127.0.0.1) 4923.45ms\n"
          ]
        },
        {
          "output_type": "stream",
          "name": "stdout",
          "text": [
            "Report saved for Arrest015_x264.mp4: /content/reports/Arrest015_x264.mp4_report.txt\n",
            "Processing video: Arrest013_x264.mp4\n",
            "Uploaded: https://generativelanguage.googleapis.com/v1beta/files/hqm08an3004t\n",
            "."
          ]
        },
        {
          "output_type": "stream",
          "name": "stderr",
          "text": [
            "WARNING:tornado.access:429 POST /v1beta/models/gemini-1.5-pro-latest:generateContent?%24alt=json%3Benum-encoding%3Dint (127.0.0.1) 559.88ms\n"
          ]
        },
        {
          "output_type": "stream",
          "name": "stdout",
          "text": [
            "Error processing Arrest013_x264.mp4: 429 POST https://generativelanguage.googleapis.com/v1beta/models/gemini-1.5-pro-latest:generateContent?%24alt=json%3Benum-encoding%3Dint: Resource has been exhausted (e.g. check quota).\n",
            "Processing video: Arrest003_x264.mp4\n",
            "Uploaded: https://generativelanguage.googleapis.com/v1beta/files/v40odjzjr9q2\n",
            ".."
          ]
        },
        {
          "output_type": "stream",
          "name": "stderr",
          "text": [
            "WARNING:tornado.access:429 POST /v1beta/models/gemini-1.5-pro-latest:generateContent?%24alt=json%3Benum-encoding%3Dint (127.0.0.1) 560.44ms\n"
          ]
        },
        {
          "output_type": "stream",
          "name": "stdout",
          "text": [
            "Error processing Arrest003_x264.mp4: 429 POST https://generativelanguage.googleapis.com/v1beta/models/gemini-1.5-pro-latest:generateContent?%24alt=json%3Benum-encoding%3Dint: Resource has been exhausted (e.g. check quota).\n",
            "Processing video: Arrest022_x264.mp4\n",
            "Uploaded: https://generativelanguage.googleapis.com/v1beta/files/c5866vddolga\n",
            ".."
          ]
        },
        {
          "output_type": "error",
          "ename": "KeyboardInterrupt",
          "evalue": "",
          "traceback": [
            "\u001b[0;31m---------------------------------------------------------------------------\u001b[0m",
            "\u001b[0;31mKeyboardInterrupt\u001b[0m                         Traceback (most recent call last)",
            "\u001b[0;32m<ipython-input-11-41621a89066a>\u001b[0m in \u001b[0;36m<cell line: 31>\u001b[0;34m()\u001b[0m\n\u001b[1;32m     48\u001b[0m \u001b[0;34m\u001b[0m\u001b[0m\n\u001b[1;32m     49\u001b[0m         \u001b[0;31m# Generate content with the prompt\u001b[0m\u001b[0;34m\u001b[0m\u001b[0;34m\u001b[0m\u001b[0m\n\u001b[0;32m---> 50\u001b[0;31m         response = genai.GenerativeModel(model_name=\"gemini-1.5-pro-latest\").generate_content(\n\u001b[0m\u001b[1;32m     51\u001b[0m             \u001b[0;34m[\u001b[0m\u001b[0mvideo_file\u001b[0m\u001b[0;34m.\u001b[0m\u001b[0muri\u001b[0m\u001b[0;34m,\u001b[0m \u001b[0mprompt_template\u001b[0m\u001b[0;34m]\u001b[0m\u001b[0;34m,\u001b[0m\u001b[0;34m\u001b[0m\u001b[0;34m\u001b[0m\u001b[0m\n\u001b[1;32m     52\u001b[0m             \u001b[0mrequest_options\u001b[0m\u001b[0;34m=\u001b[0m\u001b[0;34m{\u001b[0m\u001b[0;34m\"timeout\"\u001b[0m\u001b[0;34m:\u001b[0m \u001b[0;36m20\u001b[0m\u001b[0;34m}\u001b[0m\u001b[0;34m\u001b[0m\u001b[0;34m\u001b[0m\u001b[0m\n",
            "\u001b[0;32m/usr/local/lib/python3.10/dist-packages/google/generativeai/generative_models.py\u001b[0m in \u001b[0;36mgenerate_content\u001b[0;34m(self, contents, generation_config, safety_settings, stream, tools, tool_config, request_options)\u001b[0m\n\u001b[1;32m    329\u001b[0m                 \u001b[0;32mreturn\u001b[0m \u001b[0mgeneration_types\u001b[0m\u001b[0;34m.\u001b[0m\u001b[0mGenerateContentResponse\u001b[0m\u001b[0;34m.\u001b[0m\u001b[0mfrom_iterator\u001b[0m\u001b[0;34m(\u001b[0m\u001b[0miterator\u001b[0m\u001b[0;34m)\u001b[0m\u001b[0;34m\u001b[0m\u001b[0;34m\u001b[0m\u001b[0m\n\u001b[1;32m    330\u001b[0m             \u001b[0;32melse\u001b[0m\u001b[0;34m:\u001b[0m\u001b[0;34m\u001b[0m\u001b[0;34m\u001b[0m\u001b[0m\n\u001b[0;32m--> 331\u001b[0;31m                 response = self._client.generate_content(\n\u001b[0m\u001b[1;32m    332\u001b[0m                     \u001b[0mrequest\u001b[0m\u001b[0;34m,\u001b[0m\u001b[0;34m\u001b[0m\u001b[0;34m\u001b[0m\u001b[0m\n\u001b[1;32m    333\u001b[0m                     \u001b[0;34m**\u001b[0m\u001b[0mrequest_options\u001b[0m\u001b[0;34m,\u001b[0m\u001b[0;34m\u001b[0m\u001b[0;34m\u001b[0m\u001b[0m\n",
            "\u001b[0;32m/usr/local/lib/python3.10/dist-packages/google/ai/generativelanguage_v1beta/services/generative_service/client.py\u001b[0m in \u001b[0;36mgenerate_content\u001b[0;34m(self, request, model, contents, retry, timeout, metadata)\u001b[0m\n\u001b[1;32m    828\u001b[0m \u001b[0;34m\u001b[0m\u001b[0m\n\u001b[1;32m    829\u001b[0m         \u001b[0;31m# Send the request.\u001b[0m\u001b[0;34m\u001b[0m\u001b[0;34m\u001b[0m\u001b[0m\n\u001b[0;32m--> 830\u001b[0;31m         response = rpc(\n\u001b[0m\u001b[1;32m    831\u001b[0m             \u001b[0mrequest\u001b[0m\u001b[0;34m,\u001b[0m\u001b[0;34m\u001b[0m\u001b[0;34m\u001b[0m\u001b[0m\n\u001b[1;32m    832\u001b[0m             \u001b[0mretry\u001b[0m\u001b[0;34m=\u001b[0m\u001b[0mretry\u001b[0m\u001b[0;34m,\u001b[0m\u001b[0;34m\u001b[0m\u001b[0;34m\u001b[0m\u001b[0m\n",
            "\u001b[0;32m/usr/local/lib/python3.10/dist-packages/google/api_core/gapic_v1/method.py\u001b[0m in \u001b[0;36m__call__\u001b[0;34m(self, timeout, retry, compression, *args, **kwargs)\u001b[0m\n\u001b[1;32m    129\u001b[0m             \u001b[0mkwargs\u001b[0m\u001b[0;34m[\u001b[0m\u001b[0;34m\"compression\"\u001b[0m\u001b[0;34m]\u001b[0m \u001b[0;34m=\u001b[0m \u001b[0mcompression\u001b[0m\u001b[0;34m\u001b[0m\u001b[0;34m\u001b[0m\u001b[0m\n\u001b[1;32m    130\u001b[0m \u001b[0;34m\u001b[0m\u001b[0m\n\u001b[0;32m--> 131\u001b[0;31m         \u001b[0;32mreturn\u001b[0m \u001b[0mwrapped_func\u001b[0m\u001b[0;34m(\u001b[0m\u001b[0;34m*\u001b[0m\u001b[0margs\u001b[0m\u001b[0;34m,\u001b[0m \u001b[0;34m**\u001b[0m\u001b[0mkwargs\u001b[0m\u001b[0;34m)\u001b[0m\u001b[0;34m\u001b[0m\u001b[0;34m\u001b[0m\u001b[0m\n\u001b[0m\u001b[1;32m    132\u001b[0m \u001b[0;34m\u001b[0m\u001b[0m\n\u001b[1;32m    133\u001b[0m \u001b[0;34m\u001b[0m\u001b[0m\n",
            "\u001b[0;32m/usr/local/lib/python3.10/dist-packages/google/api_core/retry/retry_unary.py\u001b[0m in \u001b[0;36mretry_wrapped_func\u001b[0;34m(*args, **kwargs)\u001b[0m\n\u001b[1;32m    291\u001b[0m                 \u001b[0mself\u001b[0m\u001b[0;34m.\u001b[0m\u001b[0m_initial\u001b[0m\u001b[0;34m,\u001b[0m \u001b[0mself\u001b[0m\u001b[0;34m.\u001b[0m\u001b[0m_maximum\u001b[0m\u001b[0;34m,\u001b[0m \u001b[0mmultiplier\u001b[0m\u001b[0;34m=\u001b[0m\u001b[0mself\u001b[0m\u001b[0;34m.\u001b[0m\u001b[0m_multiplier\u001b[0m\u001b[0;34m\u001b[0m\u001b[0;34m\u001b[0m\u001b[0m\n\u001b[1;32m    292\u001b[0m             )\n\u001b[0;32m--> 293\u001b[0;31m             return retry_target(\n\u001b[0m\u001b[1;32m    294\u001b[0m                 \u001b[0mtarget\u001b[0m\u001b[0;34m,\u001b[0m\u001b[0;34m\u001b[0m\u001b[0;34m\u001b[0m\u001b[0m\n\u001b[1;32m    295\u001b[0m                 \u001b[0mself\u001b[0m\u001b[0;34m.\u001b[0m\u001b[0m_predicate\u001b[0m\u001b[0;34m,\u001b[0m\u001b[0;34m\u001b[0m\u001b[0;34m\u001b[0m\u001b[0m\n",
            "\u001b[0;32m/usr/local/lib/python3.10/dist-packages/google/api_core/retry/retry_unary.py\u001b[0m in \u001b[0;36mretry_target\u001b[0;34m(target, predicate, sleep_generator, timeout, on_error, exception_factory, **kwargs)\u001b[0m\n\u001b[1;32m    142\u001b[0m     \u001b[0;32mfor\u001b[0m \u001b[0msleep\u001b[0m \u001b[0;32min\u001b[0m \u001b[0msleep_generator\u001b[0m\u001b[0;34m:\u001b[0m\u001b[0;34m\u001b[0m\u001b[0;34m\u001b[0m\u001b[0m\n\u001b[1;32m    143\u001b[0m         \u001b[0;32mtry\u001b[0m\u001b[0;34m:\u001b[0m\u001b[0;34m\u001b[0m\u001b[0;34m\u001b[0m\u001b[0m\n\u001b[0;32m--> 144\u001b[0;31m             \u001b[0mresult\u001b[0m \u001b[0;34m=\u001b[0m \u001b[0mtarget\u001b[0m\u001b[0;34m(\u001b[0m\u001b[0;34m)\u001b[0m\u001b[0;34m\u001b[0m\u001b[0;34m\u001b[0m\u001b[0m\n\u001b[0m\u001b[1;32m    145\u001b[0m             \u001b[0;32mif\u001b[0m \u001b[0minspect\u001b[0m\u001b[0;34m.\u001b[0m\u001b[0misawaitable\u001b[0m\u001b[0;34m(\u001b[0m\u001b[0mresult\u001b[0m\u001b[0;34m)\u001b[0m\u001b[0;34m:\u001b[0m\u001b[0;34m\u001b[0m\u001b[0;34m\u001b[0m\u001b[0m\n\u001b[1;32m    146\u001b[0m                 \u001b[0mwarnings\u001b[0m\u001b[0;34m.\u001b[0m\u001b[0mwarn\u001b[0m\u001b[0;34m(\u001b[0m\u001b[0m_ASYNC_RETRY_WARNING\u001b[0m\u001b[0;34m)\u001b[0m\u001b[0;34m\u001b[0m\u001b[0;34m\u001b[0m\u001b[0m\n",
            "\u001b[0;32m/usr/local/lib/python3.10/dist-packages/google/api_core/timeout.py\u001b[0m in \u001b[0;36mfunc_with_timeout\u001b[0;34m(*args, **kwargs)\u001b[0m\n\u001b[1;32m    118\u001b[0m                 \u001b[0mkwargs\u001b[0m\u001b[0;34m[\u001b[0m\u001b[0;34m\"timeout\"\u001b[0m\u001b[0;34m]\u001b[0m \u001b[0;34m=\u001b[0m \u001b[0mmax\u001b[0m\u001b[0;34m(\u001b[0m\u001b[0;36m0\u001b[0m\u001b[0;34m,\u001b[0m \u001b[0mself\u001b[0m\u001b[0;34m.\u001b[0m\u001b[0m_timeout\u001b[0m \u001b[0;34m-\u001b[0m \u001b[0mtime_since_first_attempt\u001b[0m\u001b[0;34m)\u001b[0m\u001b[0;34m\u001b[0m\u001b[0;34m\u001b[0m\u001b[0m\n\u001b[1;32m    119\u001b[0m \u001b[0;34m\u001b[0m\u001b[0m\n\u001b[0;32m--> 120\u001b[0;31m             \u001b[0;32mreturn\u001b[0m \u001b[0mfunc\u001b[0m\u001b[0;34m(\u001b[0m\u001b[0;34m*\u001b[0m\u001b[0margs\u001b[0m\u001b[0;34m,\u001b[0m \u001b[0;34m**\u001b[0m\u001b[0mkwargs\u001b[0m\u001b[0;34m)\u001b[0m\u001b[0;34m\u001b[0m\u001b[0;34m\u001b[0m\u001b[0m\n\u001b[0m\u001b[1;32m    121\u001b[0m \u001b[0;34m\u001b[0m\u001b[0m\n\u001b[1;32m    122\u001b[0m         \u001b[0;32mreturn\u001b[0m \u001b[0mfunc_with_timeout\u001b[0m\u001b[0;34m\u001b[0m\u001b[0;34m\u001b[0m\u001b[0m\n",
            "\u001b[0;32m/usr/local/lib/python3.10/dist-packages/google/api_core/grpc_helpers.py\u001b[0m in \u001b[0;36merror_remapped_callable\u001b[0;34m(*args, **kwargs)\u001b[0m\n\u001b[1;32m     74\u001b[0m     \u001b[0;32mdef\u001b[0m \u001b[0merror_remapped_callable\u001b[0m\u001b[0;34m(\u001b[0m\u001b[0;34m*\u001b[0m\u001b[0margs\u001b[0m\u001b[0;34m,\u001b[0m \u001b[0;34m**\u001b[0m\u001b[0mkwargs\u001b[0m\u001b[0;34m)\u001b[0m\u001b[0;34m:\u001b[0m\u001b[0;34m\u001b[0m\u001b[0;34m\u001b[0m\u001b[0m\n\u001b[1;32m     75\u001b[0m         \u001b[0;32mtry\u001b[0m\u001b[0;34m:\u001b[0m\u001b[0;34m\u001b[0m\u001b[0;34m\u001b[0m\u001b[0m\n\u001b[0;32m---> 76\u001b[0;31m             \u001b[0;32mreturn\u001b[0m \u001b[0mcallable_\u001b[0m\u001b[0;34m(\u001b[0m\u001b[0;34m*\u001b[0m\u001b[0margs\u001b[0m\u001b[0;34m,\u001b[0m \u001b[0;34m**\u001b[0m\u001b[0mkwargs\u001b[0m\u001b[0;34m)\u001b[0m\u001b[0;34m\u001b[0m\u001b[0;34m\u001b[0m\u001b[0m\n\u001b[0m\u001b[1;32m     77\u001b[0m         \u001b[0;32mexcept\u001b[0m \u001b[0mgrpc\u001b[0m\u001b[0;34m.\u001b[0m\u001b[0mRpcError\u001b[0m \u001b[0;32mas\u001b[0m \u001b[0mexc\u001b[0m\u001b[0;34m:\u001b[0m\u001b[0;34m\u001b[0m\u001b[0;34m\u001b[0m\u001b[0m\n\u001b[1;32m     78\u001b[0m             \u001b[0;32mraise\u001b[0m \u001b[0mexceptions\u001b[0m\u001b[0;34m.\u001b[0m\u001b[0mfrom_grpc_error\u001b[0m\u001b[0;34m(\u001b[0m\u001b[0mexc\u001b[0m\u001b[0;34m)\u001b[0m \u001b[0;32mfrom\u001b[0m \u001b[0mexc\u001b[0m\u001b[0;34m\u001b[0m\u001b[0;34m\u001b[0m\u001b[0m\n",
            "\u001b[0;32m/usr/local/lib/python3.10/dist-packages/google/ai/generativelanguage_v1beta/services/generative_service/transports/rest.py\u001b[0m in \u001b[0;36m__call__\u001b[0;34m(self, request, retry, timeout, metadata)\u001b[0m\n\u001b[1;32m    834\u001b[0m             \u001b[0mheaders\u001b[0m \u001b[0;34m=\u001b[0m \u001b[0mdict\u001b[0m\u001b[0;34m(\u001b[0m\u001b[0mmetadata\u001b[0m\u001b[0;34m)\u001b[0m\u001b[0;34m\u001b[0m\u001b[0;34m\u001b[0m\u001b[0m\n\u001b[1;32m    835\u001b[0m             \u001b[0mheaders\u001b[0m\u001b[0;34m[\u001b[0m\u001b[0;34m\"Content-Type\"\u001b[0m\u001b[0;34m]\u001b[0m \u001b[0;34m=\u001b[0m \u001b[0;34m\"application/json\"\u001b[0m\u001b[0;34m\u001b[0m\u001b[0;34m\u001b[0m\u001b[0m\n\u001b[0;32m--> 836\u001b[0;31m             response = getattr(self._session, method)(\n\u001b[0m\u001b[1;32m    837\u001b[0m                 \u001b[0;34m\"{host}{uri}\"\u001b[0m\u001b[0;34m.\u001b[0m\u001b[0mformat\u001b[0m\u001b[0;34m(\u001b[0m\u001b[0mhost\u001b[0m\u001b[0;34m=\u001b[0m\u001b[0mself\u001b[0m\u001b[0;34m.\u001b[0m\u001b[0m_host\u001b[0m\u001b[0;34m,\u001b[0m \u001b[0muri\u001b[0m\u001b[0;34m=\u001b[0m\u001b[0muri\u001b[0m\u001b[0;34m)\u001b[0m\u001b[0;34m,\u001b[0m\u001b[0;34m\u001b[0m\u001b[0;34m\u001b[0m\u001b[0m\n\u001b[1;32m    838\u001b[0m                 \u001b[0mtimeout\u001b[0m\u001b[0;34m=\u001b[0m\u001b[0mtimeout\u001b[0m\u001b[0;34m,\u001b[0m\u001b[0;34m\u001b[0m\u001b[0;34m\u001b[0m\u001b[0m\n",
            "\u001b[0;32m/usr/local/lib/python3.10/dist-packages/requests/sessions.py\u001b[0m in \u001b[0;36mpost\u001b[0;34m(self, url, data, json, **kwargs)\u001b[0m\n\u001b[1;32m    635\u001b[0m         \"\"\"\n\u001b[1;32m    636\u001b[0m \u001b[0;34m\u001b[0m\u001b[0m\n\u001b[0;32m--> 637\u001b[0;31m         \u001b[0;32mreturn\u001b[0m \u001b[0mself\u001b[0m\u001b[0;34m.\u001b[0m\u001b[0mrequest\u001b[0m\u001b[0;34m(\u001b[0m\u001b[0;34m\"POST\"\u001b[0m\u001b[0;34m,\u001b[0m \u001b[0murl\u001b[0m\u001b[0;34m,\u001b[0m \u001b[0mdata\u001b[0m\u001b[0;34m=\u001b[0m\u001b[0mdata\u001b[0m\u001b[0;34m,\u001b[0m \u001b[0mjson\u001b[0m\u001b[0;34m=\u001b[0m\u001b[0mjson\u001b[0m\u001b[0;34m,\u001b[0m \u001b[0;34m**\u001b[0m\u001b[0mkwargs\u001b[0m\u001b[0;34m)\u001b[0m\u001b[0;34m\u001b[0m\u001b[0;34m\u001b[0m\u001b[0m\n\u001b[0m\u001b[1;32m    638\u001b[0m \u001b[0;34m\u001b[0m\u001b[0m\n\u001b[1;32m    639\u001b[0m     \u001b[0;32mdef\u001b[0m \u001b[0mput\u001b[0m\u001b[0;34m(\u001b[0m\u001b[0mself\u001b[0m\u001b[0;34m,\u001b[0m \u001b[0murl\u001b[0m\u001b[0;34m,\u001b[0m \u001b[0mdata\u001b[0m\u001b[0;34m=\u001b[0m\u001b[0;32mNone\u001b[0m\u001b[0;34m,\u001b[0m \u001b[0;34m**\u001b[0m\u001b[0mkwargs\u001b[0m\u001b[0;34m)\u001b[0m\u001b[0;34m:\u001b[0m\u001b[0;34m\u001b[0m\u001b[0;34m\u001b[0m\u001b[0m\n",
            "\u001b[0;32m/usr/local/lib/python3.10/dist-packages/google/auth/transport/requests.py\u001b[0m in \u001b[0;36mrequest\u001b[0;34m(self, method, url, data, headers, max_allowed_time, timeout, **kwargs)\u001b[0m\n\u001b[1;32m    539\u001b[0m \u001b[0;34m\u001b[0m\u001b[0m\n\u001b[1;32m    540\u001b[0m         \u001b[0;32mwith\u001b[0m \u001b[0mTimeoutGuard\u001b[0m\u001b[0;34m(\u001b[0m\u001b[0mremaining_time\u001b[0m\u001b[0;34m)\u001b[0m \u001b[0;32mas\u001b[0m \u001b[0mguard\u001b[0m\u001b[0;34m:\u001b[0m\u001b[0;34m\u001b[0m\u001b[0;34m\u001b[0m\u001b[0m\n\u001b[0;32m--> 541\u001b[0;31m             response = super(AuthorizedSession, self).request(\n\u001b[0m\u001b[1;32m    542\u001b[0m                 \u001b[0mmethod\u001b[0m\u001b[0;34m,\u001b[0m\u001b[0;34m\u001b[0m\u001b[0;34m\u001b[0m\u001b[0m\n\u001b[1;32m    543\u001b[0m                 \u001b[0murl\u001b[0m\u001b[0;34m,\u001b[0m\u001b[0;34m\u001b[0m\u001b[0;34m\u001b[0m\u001b[0m\n",
            "\u001b[0;32m/usr/local/lib/python3.10/dist-packages/requests/sessions.py\u001b[0m in \u001b[0;36mrequest\u001b[0;34m(self, method, url, params, data, headers, cookies, files, auth, timeout, allow_redirects, proxies, hooks, stream, verify, cert, json)\u001b[0m\n\u001b[1;32m    587\u001b[0m         }\n\u001b[1;32m    588\u001b[0m         \u001b[0msend_kwargs\u001b[0m\u001b[0;34m.\u001b[0m\u001b[0mupdate\u001b[0m\u001b[0;34m(\u001b[0m\u001b[0msettings\u001b[0m\u001b[0;34m)\u001b[0m\u001b[0;34m\u001b[0m\u001b[0;34m\u001b[0m\u001b[0m\n\u001b[0;32m--> 589\u001b[0;31m         \u001b[0mresp\u001b[0m \u001b[0;34m=\u001b[0m \u001b[0mself\u001b[0m\u001b[0;34m.\u001b[0m\u001b[0msend\u001b[0m\u001b[0;34m(\u001b[0m\u001b[0mprep\u001b[0m\u001b[0;34m,\u001b[0m \u001b[0;34m**\u001b[0m\u001b[0msend_kwargs\u001b[0m\u001b[0;34m)\u001b[0m\u001b[0;34m\u001b[0m\u001b[0;34m\u001b[0m\u001b[0m\n\u001b[0m\u001b[1;32m    590\u001b[0m \u001b[0;34m\u001b[0m\u001b[0m\n\u001b[1;32m    591\u001b[0m         \u001b[0;32mreturn\u001b[0m \u001b[0mresp\u001b[0m\u001b[0;34m\u001b[0m\u001b[0;34m\u001b[0m\u001b[0m\n",
            "\u001b[0;32m/usr/local/lib/python3.10/dist-packages/requests/sessions.py\u001b[0m in \u001b[0;36msend\u001b[0;34m(self, request, **kwargs)\u001b[0m\n\u001b[1;32m    701\u001b[0m \u001b[0;34m\u001b[0m\u001b[0m\n\u001b[1;32m    702\u001b[0m         \u001b[0;31m# Send the request\u001b[0m\u001b[0;34m\u001b[0m\u001b[0;34m\u001b[0m\u001b[0m\n\u001b[0;32m--> 703\u001b[0;31m         \u001b[0mr\u001b[0m \u001b[0;34m=\u001b[0m \u001b[0madapter\u001b[0m\u001b[0;34m.\u001b[0m\u001b[0msend\u001b[0m\u001b[0;34m(\u001b[0m\u001b[0mrequest\u001b[0m\u001b[0;34m,\u001b[0m \u001b[0;34m**\u001b[0m\u001b[0mkwargs\u001b[0m\u001b[0;34m)\u001b[0m\u001b[0;34m\u001b[0m\u001b[0;34m\u001b[0m\u001b[0m\n\u001b[0m\u001b[1;32m    704\u001b[0m \u001b[0;34m\u001b[0m\u001b[0m\n\u001b[1;32m    705\u001b[0m         \u001b[0;31m# Total elapsed time of the request (approximately)\u001b[0m\u001b[0;34m\u001b[0m\u001b[0;34m\u001b[0m\u001b[0m\n",
            "\u001b[0;32m/usr/local/lib/python3.10/dist-packages/requests/adapters.py\u001b[0m in \u001b[0;36msend\u001b[0;34m(self, request, stream, timeout, verify, cert, proxies)\u001b[0m\n\u001b[1;32m    665\u001b[0m \u001b[0;34m\u001b[0m\u001b[0m\n\u001b[1;32m    666\u001b[0m         \u001b[0;32mtry\u001b[0m\u001b[0;34m:\u001b[0m\u001b[0;34m\u001b[0m\u001b[0;34m\u001b[0m\u001b[0m\n\u001b[0;32m--> 667\u001b[0;31m             resp = conn.urlopen(\n\u001b[0m\u001b[1;32m    668\u001b[0m                 \u001b[0mmethod\u001b[0m\u001b[0;34m=\u001b[0m\u001b[0mrequest\u001b[0m\u001b[0;34m.\u001b[0m\u001b[0mmethod\u001b[0m\u001b[0;34m,\u001b[0m\u001b[0;34m\u001b[0m\u001b[0;34m\u001b[0m\u001b[0m\n\u001b[1;32m    669\u001b[0m                 \u001b[0murl\u001b[0m\u001b[0;34m=\u001b[0m\u001b[0murl\u001b[0m\u001b[0;34m,\u001b[0m\u001b[0;34m\u001b[0m\u001b[0;34m\u001b[0m\u001b[0m\n",
            "\u001b[0;32m/usr/local/lib/python3.10/dist-packages/urllib3/connectionpool.py\u001b[0m in \u001b[0;36murlopen\u001b[0;34m(self, method, url, body, headers, retries, redirect, assert_same_host, timeout, pool_timeout, release_conn, chunked, body_pos, preload_content, decode_content, **response_kw)\u001b[0m\n\u001b[1;32m    787\u001b[0m \u001b[0;34m\u001b[0m\u001b[0m\n\u001b[1;32m    788\u001b[0m             \u001b[0;31m# Make the request on the HTTPConnection object\u001b[0m\u001b[0;34m\u001b[0m\u001b[0;34m\u001b[0m\u001b[0m\n\u001b[0;32m--> 789\u001b[0;31m             response = self._make_request(\n\u001b[0m\u001b[1;32m    790\u001b[0m                 \u001b[0mconn\u001b[0m\u001b[0;34m,\u001b[0m\u001b[0;34m\u001b[0m\u001b[0;34m\u001b[0m\u001b[0m\n\u001b[1;32m    791\u001b[0m                 \u001b[0mmethod\u001b[0m\u001b[0;34m,\u001b[0m\u001b[0;34m\u001b[0m\u001b[0;34m\u001b[0m\u001b[0m\n",
            "\u001b[0;32m/usr/local/lib/python3.10/dist-packages/urllib3/connectionpool.py\u001b[0m in \u001b[0;36m_make_request\u001b[0;34m(self, conn, method, url, body, headers, retries, timeout, chunked, response_conn, preload_content, decode_content, enforce_content_length)\u001b[0m\n\u001b[1;32m    534\u001b[0m         \u001b[0;31m# Receive the response from the server\u001b[0m\u001b[0;34m\u001b[0m\u001b[0;34m\u001b[0m\u001b[0m\n\u001b[1;32m    535\u001b[0m         \u001b[0;32mtry\u001b[0m\u001b[0;34m:\u001b[0m\u001b[0;34m\u001b[0m\u001b[0;34m\u001b[0m\u001b[0m\n\u001b[0;32m--> 536\u001b[0;31m             \u001b[0mresponse\u001b[0m \u001b[0;34m=\u001b[0m \u001b[0mconn\u001b[0m\u001b[0;34m.\u001b[0m\u001b[0mgetresponse\u001b[0m\u001b[0;34m(\u001b[0m\u001b[0;34m)\u001b[0m\u001b[0;34m\u001b[0m\u001b[0;34m\u001b[0m\u001b[0m\n\u001b[0m\u001b[1;32m    537\u001b[0m         \u001b[0;32mexcept\u001b[0m \u001b[0;34m(\u001b[0m\u001b[0mBaseSSLError\u001b[0m\u001b[0;34m,\u001b[0m \u001b[0mOSError\u001b[0m\u001b[0;34m)\u001b[0m \u001b[0;32mas\u001b[0m \u001b[0me\u001b[0m\u001b[0;34m:\u001b[0m\u001b[0;34m\u001b[0m\u001b[0;34m\u001b[0m\u001b[0m\n\u001b[1;32m    538\u001b[0m             \u001b[0mself\u001b[0m\u001b[0;34m.\u001b[0m\u001b[0m_raise_timeout\u001b[0m\u001b[0;34m(\u001b[0m\u001b[0merr\u001b[0m\u001b[0;34m=\u001b[0m\u001b[0me\u001b[0m\u001b[0;34m,\u001b[0m \u001b[0murl\u001b[0m\u001b[0;34m=\u001b[0m\u001b[0murl\u001b[0m\u001b[0;34m,\u001b[0m \u001b[0mtimeout_value\u001b[0m\u001b[0;34m=\u001b[0m\u001b[0mread_timeout\u001b[0m\u001b[0;34m)\u001b[0m\u001b[0;34m\u001b[0m\u001b[0;34m\u001b[0m\u001b[0m\n",
            "\u001b[0;32m/usr/local/lib/python3.10/dist-packages/urllib3/connection.py\u001b[0m in \u001b[0;36mgetresponse\u001b[0;34m(self)\u001b[0m\n\u001b[1;32m    505\u001b[0m \u001b[0;34m\u001b[0m\u001b[0m\n\u001b[1;32m    506\u001b[0m         \u001b[0;31m# Get the response from http.client.HTTPConnection\u001b[0m\u001b[0;34m\u001b[0m\u001b[0;34m\u001b[0m\u001b[0m\n\u001b[0;32m--> 507\u001b[0;31m         \u001b[0mhttplib_response\u001b[0m \u001b[0;34m=\u001b[0m \u001b[0msuper\u001b[0m\u001b[0;34m(\u001b[0m\u001b[0;34m)\u001b[0m\u001b[0;34m.\u001b[0m\u001b[0mgetresponse\u001b[0m\u001b[0;34m(\u001b[0m\u001b[0;34m)\u001b[0m\u001b[0;34m\u001b[0m\u001b[0;34m\u001b[0m\u001b[0m\n\u001b[0m\u001b[1;32m    508\u001b[0m \u001b[0;34m\u001b[0m\u001b[0m\n\u001b[1;32m    509\u001b[0m         \u001b[0;32mtry\u001b[0m\u001b[0;34m:\u001b[0m\u001b[0;34m\u001b[0m\u001b[0;34m\u001b[0m\u001b[0m\n",
            "\u001b[0;32m/usr/lib/python3.10/http/client.py\u001b[0m in \u001b[0;36mgetresponse\u001b[0;34m(self)\u001b[0m\n\u001b[1;32m   1373\u001b[0m         \u001b[0;32mtry\u001b[0m\u001b[0;34m:\u001b[0m\u001b[0;34m\u001b[0m\u001b[0;34m\u001b[0m\u001b[0m\n\u001b[1;32m   1374\u001b[0m             \u001b[0;32mtry\u001b[0m\u001b[0;34m:\u001b[0m\u001b[0;34m\u001b[0m\u001b[0;34m\u001b[0m\u001b[0m\n\u001b[0;32m-> 1375\u001b[0;31m                 \u001b[0mresponse\u001b[0m\u001b[0;34m.\u001b[0m\u001b[0mbegin\u001b[0m\u001b[0;34m(\u001b[0m\u001b[0;34m)\u001b[0m\u001b[0;34m\u001b[0m\u001b[0;34m\u001b[0m\u001b[0m\n\u001b[0m\u001b[1;32m   1376\u001b[0m             \u001b[0;32mexcept\u001b[0m \u001b[0mConnectionError\u001b[0m\u001b[0;34m:\u001b[0m\u001b[0;34m\u001b[0m\u001b[0;34m\u001b[0m\u001b[0m\n\u001b[1;32m   1377\u001b[0m                 \u001b[0mself\u001b[0m\u001b[0;34m.\u001b[0m\u001b[0mclose\u001b[0m\u001b[0;34m(\u001b[0m\u001b[0;34m)\u001b[0m\u001b[0;34m\u001b[0m\u001b[0;34m\u001b[0m\u001b[0m\n",
            "\u001b[0;32m/usr/lib/python3.10/http/client.py\u001b[0m in \u001b[0;36mbegin\u001b[0;34m(self)\u001b[0m\n\u001b[1;32m    316\u001b[0m         \u001b[0;31m# read until we get a non-100 response\u001b[0m\u001b[0;34m\u001b[0m\u001b[0;34m\u001b[0m\u001b[0m\n\u001b[1;32m    317\u001b[0m         \u001b[0;32mwhile\u001b[0m \u001b[0;32mTrue\u001b[0m\u001b[0;34m:\u001b[0m\u001b[0;34m\u001b[0m\u001b[0;34m\u001b[0m\u001b[0m\n\u001b[0;32m--> 318\u001b[0;31m             \u001b[0mversion\u001b[0m\u001b[0;34m,\u001b[0m \u001b[0mstatus\u001b[0m\u001b[0;34m,\u001b[0m \u001b[0mreason\u001b[0m \u001b[0;34m=\u001b[0m \u001b[0mself\u001b[0m\u001b[0;34m.\u001b[0m\u001b[0m_read_status\u001b[0m\u001b[0;34m(\u001b[0m\u001b[0;34m)\u001b[0m\u001b[0;34m\u001b[0m\u001b[0;34m\u001b[0m\u001b[0m\n\u001b[0m\u001b[1;32m    319\u001b[0m             \u001b[0;32mif\u001b[0m \u001b[0mstatus\u001b[0m \u001b[0;34m!=\u001b[0m \u001b[0mCONTINUE\u001b[0m\u001b[0;34m:\u001b[0m\u001b[0;34m\u001b[0m\u001b[0;34m\u001b[0m\u001b[0m\n\u001b[1;32m    320\u001b[0m                 \u001b[0;32mbreak\u001b[0m\u001b[0;34m\u001b[0m\u001b[0;34m\u001b[0m\u001b[0m\n",
            "\u001b[0;32m/usr/lib/python3.10/http/client.py\u001b[0m in \u001b[0;36m_read_status\u001b[0;34m(self)\u001b[0m\n\u001b[1;32m    277\u001b[0m \u001b[0;34m\u001b[0m\u001b[0m\n\u001b[1;32m    278\u001b[0m     \u001b[0;32mdef\u001b[0m \u001b[0m_read_status\u001b[0m\u001b[0;34m(\u001b[0m\u001b[0mself\u001b[0m\u001b[0;34m)\u001b[0m\u001b[0;34m:\u001b[0m\u001b[0;34m\u001b[0m\u001b[0;34m\u001b[0m\u001b[0m\n\u001b[0;32m--> 279\u001b[0;31m         \u001b[0mline\u001b[0m \u001b[0;34m=\u001b[0m \u001b[0mstr\u001b[0m\u001b[0;34m(\u001b[0m\u001b[0mself\u001b[0m\u001b[0;34m.\u001b[0m\u001b[0mfp\u001b[0m\u001b[0;34m.\u001b[0m\u001b[0mreadline\u001b[0m\u001b[0;34m(\u001b[0m\u001b[0m_MAXLINE\u001b[0m \u001b[0;34m+\u001b[0m \u001b[0;36m1\u001b[0m\u001b[0;34m)\u001b[0m\u001b[0;34m,\u001b[0m \u001b[0;34m\"iso-8859-1\"\u001b[0m\u001b[0;34m)\u001b[0m\u001b[0;34m\u001b[0m\u001b[0;34m\u001b[0m\u001b[0m\n\u001b[0m\u001b[1;32m    280\u001b[0m         \u001b[0;32mif\u001b[0m \u001b[0mlen\u001b[0m\u001b[0;34m(\u001b[0m\u001b[0mline\u001b[0m\u001b[0;34m)\u001b[0m \u001b[0;34m>\u001b[0m \u001b[0m_MAXLINE\u001b[0m\u001b[0;34m:\u001b[0m\u001b[0;34m\u001b[0m\u001b[0;34m\u001b[0m\u001b[0m\n\u001b[1;32m    281\u001b[0m             \u001b[0;32mraise\u001b[0m \u001b[0mLineTooLong\u001b[0m\u001b[0;34m(\u001b[0m\u001b[0;34m\"status line\"\u001b[0m\u001b[0;34m)\u001b[0m\u001b[0;34m\u001b[0m\u001b[0;34m\u001b[0m\u001b[0m\n",
            "\u001b[0;32m/usr/lib/python3.10/socket.py\u001b[0m in \u001b[0;36mreadinto\u001b[0;34m(self, b)\u001b[0m\n\u001b[1;32m    703\u001b[0m         \u001b[0;32mwhile\u001b[0m \u001b[0;32mTrue\u001b[0m\u001b[0;34m:\u001b[0m\u001b[0;34m\u001b[0m\u001b[0;34m\u001b[0m\u001b[0m\n\u001b[1;32m    704\u001b[0m             \u001b[0;32mtry\u001b[0m\u001b[0;34m:\u001b[0m\u001b[0;34m\u001b[0m\u001b[0;34m\u001b[0m\u001b[0m\n\u001b[0;32m--> 705\u001b[0;31m                 \u001b[0;32mreturn\u001b[0m \u001b[0mself\u001b[0m\u001b[0;34m.\u001b[0m\u001b[0m_sock\u001b[0m\u001b[0;34m.\u001b[0m\u001b[0mrecv_into\u001b[0m\u001b[0;34m(\u001b[0m\u001b[0mb\u001b[0m\u001b[0;34m)\u001b[0m\u001b[0;34m\u001b[0m\u001b[0;34m\u001b[0m\u001b[0m\n\u001b[0m\u001b[1;32m    706\u001b[0m             \u001b[0;32mexcept\u001b[0m \u001b[0mtimeout\u001b[0m\u001b[0;34m:\u001b[0m\u001b[0;34m\u001b[0m\u001b[0;34m\u001b[0m\u001b[0m\n\u001b[1;32m    707\u001b[0m                 \u001b[0mself\u001b[0m\u001b[0;34m.\u001b[0m\u001b[0m_timeout_occurred\u001b[0m \u001b[0;34m=\u001b[0m \u001b[0;32mTrue\u001b[0m\u001b[0;34m\u001b[0m\u001b[0;34m\u001b[0m\u001b[0m\n",
            "\u001b[0;31mKeyboardInterrupt\u001b[0m: "
          ]
        }
      ],
      "source": [
        "import os\n",
        "import time\n",
        "import google.generativeai as genai\n",
        "\n",
        "# Folder paths for video files\n",
        "abuse_folder = '/content/abuse'\n",
        "arrest_folder = '/content/arrest'\n",
        "\n",
        "# Collect video files\n",
        "abuse_videos = [os.path.join(abuse_folder, f) for f in os.listdir(abuse_folder) if f.endswith('.mp4')]\n",
        "arrest_videos = [os.path.join(arrest_folder, f) for f in os.listdir(arrest_folder) if f.endswith('.mp4')]\n",
        "all_videos = abuse_videos + arrest_videos\n",
        "\n",
        "# Output reports folder\n",
        "reports_folder = '/content/reports'\n",
        "os.makedirs(reports_folder, exist_ok=True)  # Create the reports folder if it doesn't exist\n",
        "\n",
        "# Define the prompt\n",
        "prompt_template = \"\"\"\n",
        "Incident Description: Summarize the events in the video, describing the fight or violent behavior in detail and provide the following:\n",
        "\n",
        "1. Incident Summary: Key moments, timeline, and location.\n",
        "2. Involved Parties: Gender, age, clothing, actions, and features of each person.\n",
        "3. Incident Type: Main action (e.g., Abuse, Arrest) and secondary actions.\n",
        "4. Injuries: List injuries for each person and damage to property.\n",
        "5. Time and Date: When did the incident happen?\n",
        "6. Outcome: Resolution, arrests, and follow-up actions.\n",
        "\"\"\"\n",
        "\n",
        "# Process videos\n",
        "for video_path in all_videos:\n",
        "    video_name = os.path.basename(video_path)\n",
        "    print(f\"Processing video: {video_name}\")\n",
        "\n",
        "    try:\n",
        "        # Upload video file\n",
        "        video_file = genai.upload_file(path=video_path)\n",
        "        print(f\"Uploaded: {video_file.uri}\")\n",
        "\n",
        "        # Wait for processing to complete\n",
        "        while video_file.state.name == \"PROCESSING\":\n",
        "            print('.', end='', flush=True)\n",
        "            time.sleep(1)\n",
        "            video_file = genai.get_file(video_file.name)\n",
        "\n",
        "        if video_file.state.name == \"FAILED\":\n",
        "            raise ValueError(f\"Video upload failed: {video_name}\")\n",
        "\n",
        "        # Generate content with the prompt\n",
        "        response = genai.GenerativeModel(model_name=\"gemini-1.5-pro-latest\").generate_content(\n",
        "            [video_file.uri, prompt_template],\n",
        "            request_options={\"timeout\": 20}\n",
        "        )\n",
        "\n",
        "        # Print raw response for debugging\n",
        "        #print(f\"Raw response for {video_name}: {response.text}\")\n",
        "\n",
        "        # Save the response as a plain text file\n",
        "        report_file_path = os.path.join(reports_folder, f\"{video_name}_report.txt\")\n",
        "        with open(report_file_path, mode='w', encoding='utf-8') as report_file:\n",
        "            report_file.write(response.text)\n",
        "        print(f\"Report saved for {video_name}: {report_file_path}\")\n",
        "\n",
        "    except Exception as e:\n",
        "        print(f\"Error processing {video_name}: {e}\")\n"
      ]
    },
    {
      "cell_type": "code",
      "execution_count": null,
      "metadata": {
        "id": "onxtXmF3i-Sd",
        "colab": {
          "base_uri": "https://localhost:8080/",
          "height": 1000
        },
        "outputId": "a33b4088-50b8-4e40-8367-80f4e2dc69a4"
      },
      "outputs": [
        {
          "output_type": "stream",
          "name": "stdout",
          "text": [
            "  adding: content/reports/ (stored 0%)\n",
            "  adding: content/reports/Abuse002_x264.mp4_report.txt (deflated 38%)\n",
            "  adding: content/reports/Arrest008_x264.mp4_report.txt (deflated 34%)\n",
            "  adding: content/reports/Arrest018_x264.mp4_report.txt (deflated 43%)\n",
            "  adding: content/reports/Abuse024_x264.mp4_report.txt (deflated 54%)\n",
            "  adding: content/reports/Abuse043_x264.mp4_report.txt (deflated 34%)\n",
            "  adding: content/reports/Arrest021_x264.mp4_report.txt (deflated 31%)\n",
            "  adding: content/reports/Abuse044_x264.mp4_report.txt (deflated 33%)\n",
            "  adding: content/reports/Abuse021_x264.mp4_report.txt (deflated 37%)\n",
            "  adding: content/reports/Abuse036_x264.mp4_report.txt (deflated 36%)\n",
            "  adding: content/reports/Arrest004_x264.mp4_report.txt (deflated 41%)\n",
            "  adding: content/reports/Arrest026_x264.mp4_report.txt (deflated 36%)\n",
            "  adding: content/reports/Abuse020_x264.mp4_report.txt (deflated 37%)\n",
            "  adding: content/reports/Abuse047_x264.mp4_report.txt (deflated 36%)\n",
            "  adding: content/reports/Arrest015_x264.mp4_report.txt (deflated 40%)\n",
            "  adding: content/reports/Abuse041_x264.mp4_report.txt (deflated 41%)\n",
            "  adding: content/reports/Abuse045_x264.mp4_report.txt (deflated 39%)\n",
            "  adding: content/reports/Abuse030_x264.mp4_report.txt (deflated 33%)\n",
            "  adding: content/reports/Abuse035_x264.mp4_report.txt (deflated 38%)\n",
            "  adding: content/reports/Abuse027_x264.mp4_report.txt (deflated 41%)\n",
            "  adding: content/reports/Arrest009_x264.mp4_report.txt (deflated 37%)\n",
            "  adding: content/reports/Abuse003_x264.mp4_report.txt (deflated 57%)\n",
            "  adding: content/reports/Abuse017_x264.mp4_report.txt (deflated 37%)\n",
            "  adding: content/reports/Abuse012_x264.mp4_report.txt (deflated 55%)\n",
            "  adding: content/reports/Abuse011_x264.mp4_report.txt (deflated 53%)\n",
            "  adding: content/reports/Abuse037_x264.mp4_report.txt (deflated 53%)\n",
            "  adding: content/reports/Abuse029_x264.mp4_report.txt (deflated 36%)\n",
            "  adding: content/reports/Abuse010_x264.mp4_report.txt (deflated 53%)\n",
            "  adding: content/reports/Abuse005_x264.mp4_report.txt (deflated 53%)\n",
            "  adding: content/reports/Arrest019_x264.mp4_report.txt (deflated 55%)\n",
            "  adding: content/reports/Abuse023_x264.mp4_report.txt (deflated 38%)\n",
            "  adding: content/reports/Arrest006_x264.mp4_report.txt (deflated 38%)\n",
            "  adding: content/reports/Abuse028_x264.mp4_report.txt (deflated 53%)\n",
            "  adding: content/reports/Abuse018_x264.mp4_report.txt (deflated 39%)\n",
            "  adding: content/reports/Abuse034_x264.mp4_report.txt (deflated 55%)\n",
            "  adding: content/reports/Arrest020_x264.mp4_report.txt (deflated 47%)\n",
            "  adding: content/reports/Abuse038_x264.mp4_report.txt (deflated 58%)\n",
            "  adding: content/reports/Arrest001_x264.mp4_report.txt (deflated 37%)\n",
            "  adding: content/reports/Arrest023_x264.mp4_report.txt (deflated 46%)\n",
            "  adding: content/reports/Arrest025_x264.mp4_report.txt (deflated 54%)\n",
            "  adding: content/reports/Arrest027_x264.mp4_report.txt (deflated 40%)\n",
            "  adding: content/reports/Arrest028_x264.mp4_report.txt (deflated 55%)\n",
            "  adding: content/reports/Arrest024_x264.mp4_report.txt (deflated 54%)\n"
          ]
        },
        {
          "output_type": "error",
          "ename": "FileNotFoundError",
          "evalue": "Cannot find file: reports.zip",
          "traceback": [
            "\u001b[0;31m---------------------------------------------------------------------------\u001b[0m",
            "\u001b[0;31mFileNotFoundError\u001b[0m                         Traceback (most recent call last)",
            "\u001b[0;32m<ipython-input-12-415a56a66554>\u001b[0m in \u001b[0;36m<cell line: 6>\u001b[0;34m()\u001b[0m\n\u001b[1;32m      4\u001b[0m \u001b[0;31m# Download the zip file\u001b[0m\u001b[0;34m\u001b[0m\u001b[0;34m\u001b[0m\u001b[0m\n\u001b[1;32m      5\u001b[0m \u001b[0;32mfrom\u001b[0m \u001b[0mgoogle\u001b[0m\u001b[0;34m.\u001b[0m\u001b[0mcolab\u001b[0m \u001b[0;32mimport\u001b[0m \u001b[0mfiles\u001b[0m\u001b[0;34m\u001b[0m\u001b[0;34m\u001b[0m\u001b[0m\n\u001b[0;32m----> 6\u001b[0;31m \u001b[0mfiles\u001b[0m\u001b[0;34m.\u001b[0m\u001b[0mdownload\u001b[0m\u001b[0;34m(\u001b[0m\u001b[0;34m'reports.zip'\u001b[0m\u001b[0;34m)\u001b[0m\u001b[0;34m\u001b[0m\u001b[0;34m\u001b[0m\u001b[0m\n\u001b[0m",
            "\u001b[0;32m/usr/local/lib/python3.10/dist-packages/google/colab/files.py\u001b[0m in \u001b[0;36mdownload\u001b[0;34m(filename)\u001b[0m\n\u001b[1;32m    231\u001b[0m   \u001b[0;32mif\u001b[0m \u001b[0;32mnot\u001b[0m \u001b[0m_os\u001b[0m\u001b[0;34m.\u001b[0m\u001b[0mpath\u001b[0m\u001b[0;34m.\u001b[0m\u001b[0mexists\u001b[0m\u001b[0;34m(\u001b[0m\u001b[0mfilename\u001b[0m\u001b[0;34m)\u001b[0m\u001b[0;34m:\u001b[0m\u001b[0;34m\u001b[0m\u001b[0;34m\u001b[0m\u001b[0m\n\u001b[1;32m    232\u001b[0m     \u001b[0mmsg\u001b[0m \u001b[0;34m=\u001b[0m \u001b[0;34m'Cannot find file: {}'\u001b[0m\u001b[0;34m.\u001b[0m\u001b[0mformat\u001b[0m\u001b[0;34m(\u001b[0m\u001b[0mfilename\u001b[0m\u001b[0;34m)\u001b[0m\u001b[0;34m\u001b[0m\u001b[0;34m\u001b[0m\u001b[0m\n\u001b[0;32m--> 233\u001b[0;31m     \u001b[0;32mraise\u001b[0m \u001b[0mFileNotFoundError\u001b[0m\u001b[0;34m(\u001b[0m\u001b[0mmsg\u001b[0m\u001b[0;34m)\u001b[0m  \u001b[0;31m# pylint: disable=undefined-variable\u001b[0m\u001b[0;34m\u001b[0m\u001b[0;34m\u001b[0m\u001b[0m\n\u001b[0m\u001b[1;32m    234\u001b[0m \u001b[0;34m\u001b[0m\u001b[0m\n\u001b[1;32m    235\u001b[0m   \u001b[0mcomm_manager\u001b[0m \u001b[0;34m=\u001b[0m \u001b[0m_IPython\u001b[0m\u001b[0;34m.\u001b[0m\u001b[0mget_ipython\u001b[0m\u001b[0;34m(\u001b[0m\u001b[0;34m)\u001b[0m\u001b[0;34m.\u001b[0m\u001b[0mkernel\u001b[0m\u001b[0;34m.\u001b[0m\u001b[0mcomm_manager\u001b[0m\u001b[0;34m\u001b[0m\u001b[0;34m\u001b[0m\u001b[0m\n",
            "\u001b[0;31mFileNotFoundError\u001b[0m: Cannot find file: reports.zip"
          ]
        }
      ],
      "source": [
        "# Zip the folder\n",
        "!zip -r your_folder_name.zip /content/reports\n",
        "\n",
        "# Download the zip file\n",
        "from google.colab import files\n",
        "files.download('reports.zip')\n"
      ]
    }
  ],
  "metadata": {
    "colab": {
      "provenance": []
    },
    "kernelspec": {
      "display_name": "Python 3",
      "name": "python3"
    },
    "language_info": {
      "name": "python"
    }
  },
  "nbformat": 4,
  "nbformat_minor": 0
}