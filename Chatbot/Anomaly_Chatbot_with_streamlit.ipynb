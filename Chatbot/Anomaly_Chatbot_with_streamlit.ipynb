{
  "cells": [
    {
      "cell_type": "code",
      "execution_count": null,
      "metadata": {
        "id": "3hKmZUi5IVAZ"
      },
      "outputs": [],
      "source": [
        "!pip install streamlit pyngrok google-api-python-client google-auth google-auth-oauthlib google-auth-httplib2\n",
        "!pip install langchain transformers sentence-transformers torch numpy python-dotenv streamlit-chat\n",
        "!pip install langchain_community langchain_openai faiss-cpu chromadb requests\n",
        "!pip install pydantic docarray\n",
        "!pip install --upgrade chromadb\n"
      ]
    },
    {
      "cell_type": "code",
      "execution_count": null,
      "metadata": {
        "colab": {
          "base_uri": "https://localhost:8080/"
        },
        "id": "bOoM8l6pTFrt",
        "outputId": "f904a0da-4787-4a20-ca8f-b932f63e69b1"
      },
      "outputs": [
        {
          "output_type": "stream",
          "name": "stdout",
          "text": [
            "Mounted at /content/drive\n"
          ]
        }
      ],
      "source": [
        "from google.colab import drive\n",
        "import os\n",
        "\n",
        "\n",
        "drive.mount(\"/content/drive\", force_remount=True)\n",
        "project_folder = '/content/drive/MyDrive/Anomaly_Chatbot'\n",
        "os.chdir(project_folder)\n",
        "\n",
        "assert 'app.py' in os.listdir(), \"app.py not found in the specified folder!\"\n"
      ]
    },
    {
      "cell_type": "code",
      "source": [
        "\n",
        "import os\n",
        "from google.oauth2 import service_account\n",
        "from googleapiclient.discovery import build\n",
        "from googleapiclient.http import MediaIoBaseDownload\n",
        "\n",
        "SERVICE_ACCOUNT_FILE = '/content/drive/MyDrive/Anomaly_Chatbot/anomaly.json'\n",
        "\n",
        "# Authenticate using the service account\n",
        "SCOPES = ['https://www.googleapis.com/auth/drive.readonly']\n",
        "credentials = service_account.Credentials.from_service_account_file(\n",
        "    SERVICE_ACCOUNT_FILE, scopes=SCOPES)\n",
        "\n",
        "# Build the Drive API service\n",
        "service = build('drive', 'v3', credentials=credentials)\n",
        "\n",
        "# Function to list all .txt files in a Google Drive folder\n",
        "def list_txt_files(folder_id):\n",
        "    query = f\"'{folder_id}' in parents and mimeType='text/plain'\"\n",
        "    results = service.files().list(q=query, fields=\"files(id, name)\").execute()\n",
        "    return results.get('files', [])\n",
        "\n",
        "# Function to download a file from Google Drive to a specific path\n",
        "def download_file(file_id, file_name, destination_folder):\n",
        "    request = service.files().get_media(fileId=file_id)\n",
        "    local_path = os.path.join(destination_folder, file_name)\n",
        "    os.makedirs(destination_folder, exist_ok=True)  # Ensure the directory exists\n",
        "    with open(local_path, \"wb\") as f:\n",
        "        downloader = MediaIoBaseDownload(f, request)\n",
        "        done = False\n",
        "        while not done:\n",
        "            _, done = downloader.next_chunk()\n",
        "    return local_path\n",
        "\n",
        "# Define Google Drive folder ID and destination folder\n",
        "folder_id = '1EVONoZ0UJmRWTnpQmxDwLMdypZmNOurC'  # Replace with your folder ID\n",
        "destination_folder = '/content/drive/MyDrive/Anomaly_Chatbot/drive_downloads'\n",
        "\n",
        "# List all .txt files in the folder\n",
        "txt_files = list_txt_files(folder_id)\n",
        "if not txt_files:\n",
        "    print(\"No .txt files found in the folder.\")\n",
        "else:\n",
        "    print(f\"Found {len(txt_files)} .txt files. Downloading...\")\n",
        "    for file in txt_files:\n",
        "        file_id = file['id']\n",
        "        file_name = file['name']\n",
        "        download_file(file_id, file_name, destination_folder)\n",
        "        print(f\"Downloaded {file_name} to {destination_folder}\")\n"
      ],
      "metadata": {
        "colab": {
          "base_uri": "https://localhost:8080/"
        },
        "id": "uMv7ruAfvezH",
        "outputId": "bc51771a-ea42-47df-b6ac-fc45e19d674f"
      },
      "execution_count": null,
      "outputs": [
        {
          "output_type": "stream",
          "name": "stdout",
          "text": [
            "Found 49 .txt files. Downloading...\n",
            "Downloaded anomaly_20241120_145255_report.txt to /content/drive/MyDrive/Anomaly_Chatbot/drive_downloads\n",
            "Downloaded anomaly_20241120_145101_report.txt to /content/drive/MyDrive/Anomaly_Chatbot/drive_downloads\n",
            "Downloaded anomaly_20241120_145041_report.txt to /content/drive/MyDrive/Anomaly_Chatbot/drive_downloads\n",
            "Downloaded anomaly_20241120_145023_report.txt to /content/drive/MyDrive/Anomaly_Chatbot/drive_downloads\n",
            "Downloaded anomaly_20241120_145002_report.txt to /content/drive/MyDrive/Anomaly_Chatbot/drive_downloads\n",
            "Downloaded anomaly_20241120_140910_report.txt to /content/drive/MyDrive/Anomaly_Chatbot/drive_downloads\n",
            "Downloaded anomaly_20241120_140851_report.txt to /content/drive/MyDrive/Anomaly_Chatbot/drive_downloads\n",
            "Downloaded Arrest015_x264.mp4_report.txt to /content/drive/MyDrive/Anomaly_Chatbot/drive_downloads\n",
            "Downloaded Arrest027_x264.mp4_report.txt to /content/drive/MyDrive/Anomaly_Chatbot/drive_downloads\n",
            "Downloaded Arrest001_x264.mp4_report.txt to /content/drive/MyDrive/Anomaly_Chatbot/drive_downloads\n",
            "Downloaded Arrest020_x264.mp4_report.txt to /content/drive/MyDrive/Anomaly_Chatbot/drive_downloads\n",
            "Downloaded Arrest024_x264.mp4_report.txt to /content/drive/MyDrive/Anomaly_Chatbot/drive_downloads\n",
            "Downloaded Arrest028_x264.mp4_report.txt to /content/drive/MyDrive/Anomaly_Chatbot/drive_downloads\n",
            "Downloaded Arrest006_x264.mp4_report.txt to /content/drive/MyDrive/Anomaly_Chatbot/drive_downloads\n",
            "Downloaded Arrest023_x264.mp4_report.txt to /content/drive/MyDrive/Anomaly_Chatbot/drive_downloads\n",
            "Downloaded Arrest009_x264.mp4_report.txt to /content/drive/MyDrive/Anomaly_Chatbot/drive_downloads\n",
            "Downloaded Arrest018_x264.mp4_report.txt to /content/drive/MyDrive/Anomaly_Chatbot/drive_downloads\n",
            "Downloaded Arrest019_x264.mp4_report.txt to /content/drive/MyDrive/Anomaly_Chatbot/drive_downloads\n",
            "Downloaded Arrest008_x264.mp4_report.txt to /content/drive/MyDrive/Anomaly_Chatbot/drive_downloads\n",
            "Downloaded Arrest004_x264.mp4_report.txt to /content/drive/MyDrive/Anomaly_Chatbot/drive_downloads\n",
            "Downloaded Abuse005_x264.mp4_report.txt to /content/drive/MyDrive/Anomaly_Chatbot/drive_downloads\n",
            "Downloaded Abuse035_x264.mp4_report.txt to /content/drive/MyDrive/Anomaly_Chatbot/drive_downloads\n",
            "Downloaded Abuse037_x264.mp4_report.txt to /content/drive/MyDrive/Anomaly_Chatbot/drive_downloads\n",
            "Downloaded Abuse043_x264.mp4_report.txt to /content/drive/MyDrive/Anomaly_Chatbot/drive_downloads\n",
            "Downloaded Abuse041_x264.mp4_report.txt to /content/drive/MyDrive/Anomaly_Chatbot/drive_downloads\n",
            "Downloaded Abuse038_x264.mp4_report.txt to /content/drive/MyDrive/Anomaly_Chatbot/drive_downloads\n",
            "Downloaded Abuse034_x264.mp4_report.txt to /content/drive/MyDrive/Anomaly_Chatbot/drive_downloads\n",
            "Downloaded Arrest025_x264.mp4_report.txt to /content/drive/MyDrive/Anomaly_Chatbot/drive_downloads\n",
            "Downloaded Abuse002_x264.mp4_report.txt to /content/drive/MyDrive/Anomaly_Chatbot/drive_downloads\n",
            "Downloaded Abuse023_x264.mp4_report.txt to /content/drive/MyDrive/Anomaly_Chatbot/drive_downloads\n",
            "Downloaded Arrest026_x264.mp4_report.txt to /content/drive/MyDrive/Anomaly_Chatbot/drive_downloads\n",
            "Downloaded Abuse020_x264.mp4_report.txt to /content/drive/MyDrive/Anomaly_Chatbot/drive_downloads\n",
            "Downloaded Abuse021_x264.mp4_report.txt to /content/drive/MyDrive/Anomaly_Chatbot/drive_downloads\n",
            "Downloaded Arrest021_x264.mp4_report.txt to /content/drive/MyDrive/Anomaly_Chatbot/drive_downloads\n",
            "Downloaded Abuse047_x264.mp4_report.txt to /content/drive/MyDrive/Anomaly_Chatbot/drive_downloads\n",
            "Downloaded Abuse027_x264.mp4_report.txt to /content/drive/MyDrive/Anomaly_Chatbot/drive_downloads\n",
            "Downloaded Abuse036_x264.mp4_report.txt to /content/drive/MyDrive/Anomaly_Chatbot/drive_downloads\n",
            "Downloaded Abuse029_x264.mp4_report.txt to /content/drive/MyDrive/Anomaly_Chatbot/drive_downloads\n",
            "Downloaded Abuse003_x264.mp4_report.txt to /content/drive/MyDrive/Anomaly_Chatbot/drive_downloads\n",
            "Downloaded Abuse030_x264.mp4_report.txt to /content/drive/MyDrive/Anomaly_Chatbot/drive_downloads\n",
            "Downloaded Abuse018_x264.mp4_report.txt to /content/drive/MyDrive/Anomaly_Chatbot/drive_downloads\n",
            "Downloaded Abuse044_x264.mp4_report.txt to /content/drive/MyDrive/Anomaly_Chatbot/drive_downloads\n",
            "Downloaded Abuse024_x264.mp4_report.txt to /content/drive/MyDrive/Anomaly_Chatbot/drive_downloads\n",
            "Downloaded Abuse010_x264.mp4_report.txt to /content/drive/MyDrive/Anomaly_Chatbot/drive_downloads\n",
            "Downloaded Abuse045_x264.mp4_report.txt to /content/drive/MyDrive/Anomaly_Chatbot/drive_downloads\n",
            "Downloaded Abuse017_x264.mp4_report.txt to /content/drive/MyDrive/Anomaly_Chatbot/drive_downloads\n",
            "Downloaded Abuse028_x264.mp4_report.txt to /content/drive/MyDrive/Anomaly_Chatbot/drive_downloads\n",
            "Downloaded Abuse011_x264.mp4_report.txt to /content/drive/MyDrive/Anomaly_Chatbot/drive_downloads\n",
            "Downloaded Abuse012_x264.mp4_report.txt to /content/drive/MyDrive/Anomaly_Chatbot/drive_downloads\n"
          ]
        }
      ]
    },
    {
      "cell_type": "code",
      "execution_count": null,
      "metadata": {
        "colab": {
          "base_uri": "https://localhost:8080/"
        },
        "id": "7Byg0NIAI4Hj",
        "outputId": "7632316b-ba6c-4756-d590-314176eb0463"
      },
      "outputs": [
        {
          "output_type": "stream",
          "name": "stdout",
          "text": [
            "Streamlit app is running at NgrokTunnel: \"https://2c79-34-55-35-92.ngrok-free.app\" -> \"http://localhost:8501\"\n",
            "\n",
            "Collecting usage statistics. To deactivate, set browser.gatherUsageStats to false.\n",
            "\u001b[0m\n",
            "\u001b[0m\n",
            "\u001b[34m\u001b[1m  You can now view your Streamlit app in your browser.\u001b[0m\n",
            "\u001b[0m\n",
            "\u001b[34m  Local URL: \u001b[0m\u001b[1mhttp://localhost:8501\u001b[0m\n",
            "\u001b[34m  Network URL: \u001b[0m\u001b[1mhttp://172.28.0.12:8501\u001b[0m\n",
            "\u001b[34m  External URL: \u001b[0m\u001b[1mhttp://34.55.35.92:8501\u001b[0m\n",
            "\u001b[0m\n",
            "\u001b[34m  Stopping...\u001b[0m\n",
            "WARNING: All log messages before absl::InitializeLog() is called are written to STDERR\n",
            "E0000 00:00:1732193894.494086    9419 init.cc:229] grpc_wait_for_shutdown_with_timeout() timed out.\n"
          ]
        }
      ],
      "source": [
        "from pyngrok import ngrok\n",
        "from google.colab import userdata\n",
        "\n",
        "# Replace this with your own ngrok authentication token\n",
        "ngrok.set_auth_token(userdata.get('ngrok')\n",
        ")\n",
        "\n",
        "# Start ngrok tunnel to the Streamlit app running on port 8501\n",
        "public_url = ngrok.connect(8501)\n",
        "print(f\"Streamlit app is running at {public_url}\")\n",
        "\n",
        "\n",
        "!streamlit run app.py &  # Adjust with your Streamlit app file name\n"
      ]
    }
  ],
  "metadata": {
    "colab": {
      "provenance": []
    },
    "kernelspec": {
      "display_name": "Python 3",
      "name": "python3"
    },
    "language_info": {
      "name": "python"
    }
  },
  "nbformat": 4,
  "nbformat_minor": 0
}